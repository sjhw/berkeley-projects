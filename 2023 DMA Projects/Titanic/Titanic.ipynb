{
 "cells": [
  {
   "cell_type": "code",
   "execution_count": 1,
   "id": "8f3d6ae1",
   "metadata": {},
   "outputs": [],
   "source": [
    "# preprocessing imports\n",
    "import pandas as pd\n",
    "import numpy as np\n",
    "from itertools import *\n",
    "import warnings\n",
    "warnings.filterwarnings('ignore')\n",
    "from matplotlib import pyplot as plt\n",
    "import re\n",
    "\n",
    "# training imports\n",
    "from sklearn.model_selection import train_test_split\n",
    "from sklearn.decomposition import PCA\n",
    "from sklearn.metrics import accuracy_score\n",
    "from sklearn.neural_network import MLPClassifier"
   ]
  },
  {
   "cell_type": "markdown",
   "id": "398ba02b",
   "metadata": {},
   "source": [
    "# Data Investigation"
   ]
  },
  {
   "cell_type": "code",
   "execution_count": 2,
   "id": "218caa4f",
   "metadata": {},
   "outputs": [
    {
     "data": {
      "text/html": [
       "<div>\n",
       "<style scoped>\n",
       "    .dataframe tbody tr th:only-of-type {\n",
       "        vertical-align: middle;\n",
       "    }\n",
       "\n",
       "    .dataframe tbody tr th {\n",
       "        vertical-align: top;\n",
       "    }\n",
       "\n",
       "    .dataframe thead th {\n",
       "        text-align: right;\n",
       "    }\n",
       "</style>\n",
       "<table border=\"1\" class=\"dataframe\">\n",
       "  <thead>\n",
       "    <tr style=\"text-align: right;\">\n",
       "      <th></th>\n",
       "      <th>Survived</th>\n",
       "      <th>Pclass</th>\n",
       "      <th>Name</th>\n",
       "      <th>Sex</th>\n",
       "      <th>Age</th>\n",
       "      <th>SibSp</th>\n",
       "      <th>Parch</th>\n",
       "      <th>Ticket</th>\n",
       "      <th>Fare</th>\n",
       "      <th>Cabin</th>\n",
       "      <th>Embarked</th>\n",
       "    </tr>\n",
       "  </thead>\n",
       "  <tbody>\n",
       "    <tr>\n",
       "      <th>0</th>\n",
       "      <td>0</td>\n",
       "      <td>3</td>\n",
       "      <td>Braund, Mr. Owen Harris</td>\n",
       "      <td>male</td>\n",
       "      <td>22.0</td>\n",
       "      <td>1</td>\n",
       "      <td>0</td>\n",
       "      <td>A/5 21171</td>\n",
       "      <td>7.2500</td>\n",
       "      <td>NaN</td>\n",
       "      <td>S</td>\n",
       "    </tr>\n",
       "    <tr>\n",
       "      <th>1</th>\n",
       "      <td>1</td>\n",
       "      <td>1</td>\n",
       "      <td>Cumings, Mrs. John Bradley (Florence Briggs Th...</td>\n",
       "      <td>female</td>\n",
       "      <td>38.0</td>\n",
       "      <td>1</td>\n",
       "      <td>0</td>\n",
       "      <td>PC 17599</td>\n",
       "      <td>71.2833</td>\n",
       "      <td>C85</td>\n",
       "      <td>C</td>\n",
       "    </tr>\n",
       "    <tr>\n",
       "      <th>2</th>\n",
       "      <td>1</td>\n",
       "      <td>3</td>\n",
       "      <td>Heikkinen, Miss. Laina</td>\n",
       "      <td>female</td>\n",
       "      <td>26.0</td>\n",
       "      <td>0</td>\n",
       "      <td>0</td>\n",
       "      <td>STON/O2. 3101282</td>\n",
       "      <td>7.9250</td>\n",
       "      <td>NaN</td>\n",
       "      <td>S</td>\n",
       "    </tr>\n",
       "    <tr>\n",
       "      <th>3</th>\n",
       "      <td>1</td>\n",
       "      <td>1</td>\n",
       "      <td>Futrelle, Mrs. Jacques Heath (Lily May Peel)</td>\n",
       "      <td>female</td>\n",
       "      <td>35.0</td>\n",
       "      <td>1</td>\n",
       "      <td>0</td>\n",
       "      <td>113803</td>\n",
       "      <td>53.1000</td>\n",
       "      <td>C123</td>\n",
       "      <td>S</td>\n",
       "    </tr>\n",
       "    <tr>\n",
       "      <th>4</th>\n",
       "      <td>0</td>\n",
       "      <td>3</td>\n",
       "      <td>Allen, Mr. William Henry</td>\n",
       "      <td>male</td>\n",
       "      <td>35.0</td>\n",
       "      <td>0</td>\n",
       "      <td>0</td>\n",
       "      <td>373450</td>\n",
       "      <td>8.0500</td>\n",
       "      <td>NaN</td>\n",
       "      <td>S</td>\n",
       "    </tr>\n",
       "  </tbody>\n",
       "</table>\n",
       "</div>"
      ],
      "text/plain": [
       "   Survived  Pclass                                               Name  \\\n",
       "0         0       3                            Braund, Mr. Owen Harris   \n",
       "1         1       1  Cumings, Mrs. John Bradley (Florence Briggs Th...   \n",
       "2         1       3                             Heikkinen, Miss. Laina   \n",
       "3         1       1       Futrelle, Mrs. Jacques Heath (Lily May Peel)   \n",
       "4         0       3                           Allen, Mr. William Henry   \n",
       "\n",
       "      Sex   Age  SibSp  Parch            Ticket     Fare Cabin Embarked  \n",
       "0    male  22.0      1      0         A/5 21171   7.2500   NaN        S  \n",
       "1  female  38.0      1      0          PC 17599  71.2833   C85        C  \n",
       "2  female  26.0      0      0  STON/O2. 3101282   7.9250   NaN        S  \n",
       "3  female  35.0      1      0            113803  53.1000  C123        S  \n",
       "4    male  35.0      0      0            373450   8.0500   NaN        S  "
      ]
     },
     "execution_count": 2,
     "metadata": {},
     "output_type": "execute_result"
    }
   ],
   "source": [
    "test_investigate = pd.read_csv('test.csv')\n",
    "train_investigate = pd.read_csv('train.csv').iloc[:, 1:]\n",
    "train_investigate.head(5)"
   ]
  },
  {
   "cell_type": "markdown",
   "id": "4ba0bbfd",
   "metadata": {},
   "source": [
    "## Missing Data\n",
    "\n",
    "The training data and test data are similar in that the `Cabin` and `Age` features have lots of missing values.\n",
    "\n",
    "Considering that `Cabin` has over three fourths of the data missing, it will not be a good feature to predict on.\n",
    "\n",
    "`Age`, `Embarked`, and `Fare` can potentially still be useful features."
   ]
  },
  {
   "cell_type": "code",
   "execution_count": 3,
   "id": "605cecf0",
   "metadata": {},
   "outputs": [
    {
     "data": {
      "text/plain": [
       "Cabin       77.10\n",
       "Age         19.87\n",
       "Embarked     0.22\n",
       "dtype: float64"
      ]
     },
     "execution_count": 3,
     "metadata": {},
     "output_type": "execute_result"
    }
   ],
   "source": [
    "percent_missing_train = train_investigate.isnull().sum() * 100 / train_investigate.shape[0]\n",
    "np.round(percent_missing_train[percent_missing_train > 0].sort_values(ascending=False), 2)"
   ]
  },
  {
   "cell_type": "code",
   "execution_count": 4,
   "id": "f6cea306",
   "metadata": {},
   "outputs": [
    {
     "data": {
      "text/plain": [
       "Cabin    78.23\n",
       "Age      20.57\n",
       "Fare      0.24\n",
       "dtype: float64"
      ]
     },
     "execution_count": 4,
     "metadata": {},
     "output_type": "execute_result"
    }
   ],
   "source": [
    "percent_missing_test = test_investigate.isnull().sum() * 100 / test_investigate.shape[0]\n",
    "np.round(percent_missing_test[percent_missing_test > 0].sort_values(ascending=False), 2)"
   ]
  },
  {
   "cell_type": "markdown",
   "id": "2310faf3",
   "metadata": {},
   "source": [
    "## Pclass\n",
    "\n",
    "People in first class on average survived at a higher rate."
   ]
  },
  {
   "cell_type": "code",
   "execution_count": 5,
   "id": "9909244d",
   "metadata": {},
   "outputs": [
    {
     "data": {
      "text/html": [
       "<div>\n",
       "<style scoped>\n",
       "    .dataframe tbody tr th:only-of-type {\n",
       "        vertical-align: middle;\n",
       "    }\n",
       "\n",
       "    .dataframe tbody tr th {\n",
       "        vertical-align: top;\n",
       "    }\n",
       "\n",
       "    .dataframe thead th {\n",
       "        text-align: right;\n",
       "    }\n",
       "</style>\n",
       "<table border=\"1\" class=\"dataframe\">\n",
       "  <thead>\n",
       "    <tr style=\"text-align: right;\">\n",
       "      <th></th>\n",
       "      <th>Survived</th>\n",
       "    </tr>\n",
       "    <tr>\n",
       "      <th>Pclass</th>\n",
       "      <th></th>\n",
       "    </tr>\n",
       "  </thead>\n",
       "  <tbody>\n",
       "    <tr>\n",
       "      <th>1</th>\n",
       "      <td>0.629630</td>\n",
       "    </tr>\n",
       "    <tr>\n",
       "      <th>2</th>\n",
       "      <td>0.472826</td>\n",
       "    </tr>\n",
       "    <tr>\n",
       "      <th>3</th>\n",
       "      <td>0.242363</td>\n",
       "    </tr>\n",
       "  </tbody>\n",
       "</table>\n",
       "</div>"
      ],
      "text/plain": [
       "        Survived\n",
       "Pclass          \n",
       "1       0.629630\n",
       "2       0.472826\n",
       "3       0.242363"
      ]
     },
     "execution_count": 5,
     "metadata": {},
     "output_type": "execute_result"
    }
   ],
   "source": [
    "train_investigate.groupby('Pclass').mean()[['Survived']]"
   ]
  },
  {
   "cell_type": "code",
   "execution_count": 6,
   "id": "fbd5df6d",
   "metadata": {},
   "outputs": [],
   "source": [
    "train_investigate['Pclass3'] = (train_investigate['Pclass'] == 3) * 1\n",
    "test_investigate['Pclass3'] = (test_investigate['Pclass'] == 3) * 1"
   ]
  },
  {
   "cell_type": "markdown",
   "id": "995746db",
   "metadata": {},
   "source": [
    "## Name\n",
    "\n",
    "People who had a unique title in their name were more likely to survive than people who did not"
   ]
  },
  {
   "cell_type": "code",
   "execution_count": 7,
   "id": "c3e83740",
   "metadata": {},
   "outputs": [
    {
     "data": {
      "text/plain": [
       "Mr          517\n",
       "Miss        182\n",
       "Mrs         125\n",
       "Master       40\n",
       "Dr            7\n",
       "Rev           6\n",
       "Mlle          2\n",
       "Major         2\n",
       "Col           2\n",
       "Countess      1\n",
       "Capt          1\n",
       "Ms            1\n",
       "Sir           1\n",
       "Lady          1\n",
       "Mme           1\n",
       "Don           1\n",
       "Jonkheer      1\n",
       "Name: Name, dtype: int64"
      ]
     },
     "execution_count": 7,
     "metadata": {},
     "output_type": "execute_result"
    }
   ],
   "source": [
    "def name_title(name):\n",
    "    pattern = r'(\\w+)\\.'\n",
    "    title = re.search(pattern, name)\n",
    "    if title:\n",
    "        return title.group(1)\n",
    "    return \"\"\n",
    "\n",
    "title_counts = train_investigate['Name'].apply(name_title).value_counts()\n",
    "title_counts"
   ]
  },
  {
   "cell_type": "code",
   "execution_count": 8,
   "id": "7a09c1c4",
   "metadata": {},
   "outputs": [
    {
     "data": {
      "text/html": [
       "<div>\n",
       "<style scoped>\n",
       "    .dataframe tbody tr th:only-of-type {\n",
       "        vertical-align: middle;\n",
       "    }\n",
       "\n",
       "    .dataframe tbody tr th {\n",
       "        vertical-align: top;\n",
       "    }\n",
       "\n",
       "    .dataframe thead th {\n",
       "        text-align: right;\n",
       "    }\n",
       "</style>\n",
       "<table border=\"1\" class=\"dataframe\">\n",
       "  <thead>\n",
       "    <tr style=\"text-align: right;\">\n",
       "      <th></th>\n",
       "      <th>Survived</th>\n",
       "    </tr>\n",
       "    <tr>\n",
       "      <th>CommonTitle</th>\n",
       "      <th></th>\n",
       "    </tr>\n",
       "  </thead>\n",
       "  <tbody>\n",
       "    <tr>\n",
       "      <th>1</th>\n",
       "      <td>0.156673</td>\n",
       "    </tr>\n",
       "    <tr>\n",
       "      <th>0</th>\n",
       "      <td>0.697861</td>\n",
       "    </tr>\n",
       "  </tbody>\n",
       "</table>\n",
       "</div>"
      ],
      "text/plain": [
       "             Survived\n",
       "CommonTitle          \n",
       "1            0.156673\n",
       "0            0.697861"
      ]
     },
     "metadata": {},
     "output_type": "display_data"
    },
    {
     "data": {
      "text/plain": [
       "1    517\n",
       "0    374\n",
       "Name: CommonTitle, dtype: int64"
      ]
     },
     "execution_count": 8,
     "metadata": {},
     "output_type": "execute_result"
    }
   ],
   "source": [
    "train_investigate['Title'] = train_investigate['Name'].apply(name_title)\n",
    "test_investigate['Title'] = test_investigate['Name'].apply(name_title)\n",
    "title_counts = train_investigate['Title'].value_counts()\n",
    "important_titles = list(title_counts[title_counts <= 500].index)\n",
    "train_investigate['CommonTitle'] = 1 - train_investigate['Title'].isin(important_titles) * 1\n",
    "test_investigate['CommonTitle'] = 1 - test_investigate['Title'].isin(important_titles) * 1\n",
    "display(train_investigate.groupby('CommonTitle').mean()[['Survived']].sort_values(by='Survived'))\n",
    "train_investigate['CommonTitle'].value_counts()"
   ]
  },
  {
   "cell_type": "markdown",
   "id": "1b8e1208",
   "metadata": {},
   "source": [
    "## Sex\n",
    "\n",
    "Women were much more likely to survive than men"
   ]
  },
  {
   "cell_type": "code",
   "execution_count": 9,
   "id": "a9547f0c",
   "metadata": {},
   "outputs": [
    {
     "data": {
      "text/html": [
       "<div>\n",
       "<style scoped>\n",
       "    .dataframe tbody tr th:only-of-type {\n",
       "        vertical-align: middle;\n",
       "    }\n",
       "\n",
       "    .dataframe tbody tr th {\n",
       "        vertical-align: top;\n",
       "    }\n",
       "\n",
       "    .dataframe thead th {\n",
       "        text-align: right;\n",
       "    }\n",
       "</style>\n",
       "<table border=\"1\" class=\"dataframe\">\n",
       "  <thead>\n",
       "    <tr style=\"text-align: right;\">\n",
       "      <th></th>\n",
       "      <th>Survived</th>\n",
       "    </tr>\n",
       "    <tr>\n",
       "      <th>Female</th>\n",
       "      <th></th>\n",
       "    </tr>\n",
       "  </thead>\n",
       "  <tbody>\n",
       "    <tr>\n",
       "      <th>0</th>\n",
       "      <td>0.188908</td>\n",
       "    </tr>\n",
       "    <tr>\n",
       "      <th>1</th>\n",
       "      <td>0.742038</td>\n",
       "    </tr>\n",
       "  </tbody>\n",
       "</table>\n",
       "</div>"
      ],
      "text/plain": [
       "        Survived\n",
       "Female          \n",
       "0       0.188908\n",
       "1       0.742038"
      ]
     },
     "execution_count": 9,
     "metadata": {},
     "output_type": "execute_result"
    }
   ],
   "source": [
    "binary_sex = lambda row: 1 if row == 'female' else 0\n",
    "train_investigate['Female'] = train_investigate['Sex'].apply(binary_sex)\n",
    "test_investigate['Female'] = test_investigate['Sex'].apply(binary_sex)\n",
    "train_investigate.groupby('Female').mean()[['Survived']]"
   ]
  },
  {
   "cell_type": "markdown",
   "id": "1b4a2feb",
   "metadata": {},
   "source": [
    "## Age\n",
    "\n",
    "On average, children were more likely to survive than adults."
   ]
  },
  {
   "cell_type": "code",
   "execution_count": 10,
   "id": "40d27714",
   "metadata": {},
   "outputs": [],
   "source": [
    "age_dict = train_investigate.groupby('Title').median()['Age'].to_dict()\n",
    "train_investigate['Age'] = train_investigate['Age'].fillna(train_investigate['Pclass'].map(age_dict))\n",
    "test_investigate['Age'] = test_investigate['Age'].fillna(test_investigate['Pclass'].map(age_dict))"
   ]
  },
  {
   "cell_type": "code",
   "execution_count": 11,
   "id": "e99a5bc3",
   "metadata": {},
   "outputs": [
    {
     "data": {
      "text/html": [
       "<div>\n",
       "<style scoped>\n",
       "    .dataframe tbody tr th:only-of-type {\n",
       "        vertical-align: middle;\n",
       "    }\n",
       "\n",
       "    .dataframe tbody tr th {\n",
       "        vertical-align: top;\n",
       "    }\n",
       "\n",
       "    .dataframe thead th {\n",
       "        text-align: right;\n",
       "    }\n",
       "</style>\n",
       "<table border=\"1\" class=\"dataframe\">\n",
       "  <thead>\n",
       "    <tr style=\"text-align: right;\">\n",
       "      <th></th>\n",
       "      <th>Survived</th>\n",
       "    </tr>\n",
       "    <tr>\n",
       "      <th>Adult</th>\n",
       "      <th></th>\n",
       "    </tr>\n",
       "  </thead>\n",
       "  <tbody>\n",
       "    <tr>\n",
       "      <th>1</th>\n",
       "      <td>0.381933</td>\n",
       "    </tr>\n",
       "    <tr>\n",
       "      <th>0</th>\n",
       "      <td>0.388462</td>\n",
       "    </tr>\n",
       "  </tbody>\n",
       "</table>\n",
       "</div>"
      ],
      "text/plain": [
       "       Survived\n",
       "Adult          \n",
       "1      0.381933\n",
       "0      0.388462"
      ]
     },
     "metadata": {},
     "output_type": "display_data"
    },
    {
     "data": {
      "text/plain": [
       "1    631\n",
       "0    260\n",
       "Name: Adult, dtype: int64"
      ]
     },
     "execution_count": 11,
     "metadata": {},
     "output_type": "execute_result"
    }
   ],
   "source": [
    "train_investigate['Adult'] = (train_investigate['Age'] >= 16) * 1\n",
    "test_investigate['Adult'] = (test_investigate['Age'] >= 16) * 1\n",
    "display(train_investigate.groupby('Adult').mean()[['Survived']].sort_values(by='Survived'))\n",
    "train_investigate['Adult'].value_counts()"
   ]
  },
  {
   "cell_type": "markdown",
   "id": "88a1d0f7",
   "metadata": {},
   "source": [
    "## Sibling, Spouse, Parent, Children\n",
    "\n",
    "People in families with 1-3 others were the most likely to survive"
   ]
  },
  {
   "cell_type": "code",
   "execution_count": 12,
   "id": "391aa62d",
   "metadata": {},
   "outputs": [
    {
     "data": {
      "text/html": [
       "<div>\n",
       "<style scoped>\n",
       "    .dataframe tbody tr th:only-of-type {\n",
       "        vertical-align: middle;\n",
       "    }\n",
       "\n",
       "    .dataframe tbody tr th {\n",
       "        vertical-align: top;\n",
       "    }\n",
       "\n",
       "    .dataframe thead th {\n",
       "        text-align: right;\n",
       "    }\n",
       "</style>\n",
       "<table border=\"1\" class=\"dataframe\">\n",
       "  <thead>\n",
       "    <tr style=\"text-align: right;\">\n",
       "      <th></th>\n",
       "      <th>Survived</th>\n",
       "    </tr>\n",
       "    <tr>\n",
       "      <th>CommonFamilySize</th>\n",
       "      <th></th>\n",
       "    </tr>\n",
       "  </thead>\n",
       "  <tbody>\n",
       "    <tr>\n",
       "      <th>0</th>\n",
       "      <td>0.303538</td>\n",
       "    </tr>\n",
       "    <tr>\n",
       "      <th>1</th>\n",
       "      <td>0.552795</td>\n",
       "    </tr>\n",
       "    <tr>\n",
       "      <th>2</th>\n",
       "      <td>0.578431</td>\n",
       "    </tr>\n",
       "    <tr>\n",
       "      <th>3</th>\n",
       "      <td>0.724138</td>\n",
       "    </tr>\n",
       "    <tr>\n",
       "      <th>4</th>\n",
       "      <td>0.200000</td>\n",
       "    </tr>\n",
       "  </tbody>\n",
       "</table>\n",
       "</div>"
      ],
      "text/plain": [
       "                  Survived\n",
       "CommonFamilySize          \n",
       "0                 0.303538\n",
       "1                 0.552795\n",
       "2                 0.578431\n",
       "3                 0.724138\n",
       "4                 0.200000"
      ]
     },
     "metadata": {},
     "output_type": "display_data"
    },
    {
     "data": {
      "text/html": [
       "<div>\n",
       "<style scoped>\n",
       "    .dataframe tbody tr th:only-of-type {\n",
       "        vertical-align: middle;\n",
       "    }\n",
       "\n",
       "    .dataframe tbody tr th {\n",
       "        vertical-align: top;\n",
       "    }\n",
       "\n",
       "    .dataframe thead th {\n",
       "        text-align: right;\n",
       "    }\n",
       "</style>\n",
       "<table border=\"1\" class=\"dataframe\">\n",
       "  <thead>\n",
       "    <tr style=\"text-align: right;\">\n",
       "      <th></th>\n",
       "      <th>Survived</th>\n",
       "    </tr>\n",
       "    <tr>\n",
       "      <th>CommonFamilySize</th>\n",
       "      <th></th>\n",
       "    </tr>\n",
       "  </thead>\n",
       "  <tbody>\n",
       "    <tr>\n",
       "      <th>1</th>\n",
       "      <td>0.288815</td>\n",
       "    </tr>\n",
       "    <tr>\n",
       "      <th>0</th>\n",
       "      <td>0.578767</td>\n",
       "    </tr>\n",
       "  </tbody>\n",
       "</table>\n",
       "</div>"
      ],
      "text/plain": [
       "                  Survived\n",
       "CommonFamilySize          \n",
       "1                 0.288815\n",
       "0                 0.578767"
      ]
     },
     "metadata": {},
     "output_type": "display_data"
    },
    {
     "data": {
      "text/plain": [
       "1    599\n",
       "0    292\n",
       "Name: CommonFamilySize, dtype: int64"
      ]
     },
     "execution_count": 12,
     "metadata": {},
     "output_type": "execute_result"
    }
   ],
   "source": [
    "train_investigate['CommonFamilySize'] = train_investigate['SibSp'] + train_investigate['Parch']\n",
    "test_investigate['CommonFamilySize'] = test_investigate['SibSp'] + test_investigate['Parch']\n",
    "display(train_investigate.groupby('CommonFamilySize').mean()[['Survived']].head(5))\n",
    "family_size_train = (train_investigate['CommonFamilySize'] > 0) & (train_investigate['CommonFamilySize'] < 4)\n",
    "family_size_test = (test_investigate['CommonFamilySize'] > 0) & (test_investigate['CommonFamilySize'] < 4)\n",
    "train_investigate['CommonFamilySize'] = 1 - family_size_train \n",
    "test_investigate['CommonFamilySize'] = 1 - family_size_test\n",
    "display(train_investigate.groupby('CommonFamilySize').mean()[['Survived']].sort_values(by='Survived'))\n",
    "train_investigate['CommonFamilySize'].value_counts()"
   ]
  },
  {
   "cell_type": "markdown",
   "id": "c3ddce9a",
   "metadata": {},
   "source": [
    "## Fare\n",
    "\n",
    "People who paid more for their ticket had a higher chance of surviving on average."
   ]
  },
  {
   "cell_type": "code",
   "execution_count": 13,
   "id": "d9828fec",
   "metadata": {},
   "outputs": [
    {
     "data": {
      "text/html": [
       "<div>\n",
       "<style scoped>\n",
       "    .dataframe tbody tr th:only-of-type {\n",
       "        vertical-align: middle;\n",
       "    }\n",
       "\n",
       "    .dataframe tbody tr th {\n",
       "        vertical-align: top;\n",
       "    }\n",
       "\n",
       "    .dataframe thead th {\n",
       "        text-align: right;\n",
       "    }\n",
       "</style>\n",
       "<table border=\"1\" class=\"dataframe\">\n",
       "  <thead>\n",
       "    <tr style=\"text-align: right;\">\n",
       "      <th></th>\n",
       "      <th>Fare</th>\n",
       "    </tr>\n",
       "    <tr>\n",
       "      <th>Pclass</th>\n",
       "      <th></th>\n",
       "    </tr>\n",
       "  </thead>\n",
       "  <tbody>\n",
       "    <tr>\n",
       "      <th>1</th>\n",
       "      <td>60.2875</td>\n",
       "    </tr>\n",
       "    <tr>\n",
       "      <th>2</th>\n",
       "      <td>14.2500</td>\n",
       "    </tr>\n",
       "    <tr>\n",
       "      <th>3</th>\n",
       "      <td>8.0500</td>\n",
       "    </tr>\n",
       "  </tbody>\n",
       "</table>\n",
       "</div>"
      ],
      "text/plain": [
       "           Fare\n",
       "Pclass         \n",
       "1       60.2875\n",
       "2       14.2500\n",
       "3        8.0500"
      ]
     },
     "metadata": {},
     "output_type": "display_data"
    }
   ],
   "source": [
    "display(train_investigate.groupby('Pclass').median()[['Fare']])\n",
    "fare_dict = {1:60.3, 2:14.3, 3:8.0}\n",
    "test_investigate['Fare'] = test_investigate['Fare'].fillna(test_investigate['Pclass'].map(fare_dict))"
   ]
  },
  {
   "cell_type": "code",
   "execution_count": 14,
   "id": "84bc75ec",
   "metadata": {},
   "outputs": [
    {
     "data": {
      "image/png": "[encoded data removed]",
      "text/plain": [
       "<Figure size 640x480 with 1 Axes>"
      ]
     },
     "metadata": {},
     "output_type": "display_data"
    }
   ],
   "source": [
    "plt.hist(train_investigate['Fare'], ec='white', bins=np.arange(0, 161, 10))\n",
    "plt.ylabel('Count')\n",
    "plt.xlabel('Fare')\n",
    "plt.title('Counts for ticket fare');"
   ]
  },
  {
   "cell_type": "code",
   "execution_count": 15,
   "id": "c3e2e792",
   "metadata": {},
   "outputs": [
    {
     "data": {
      "text/html": [
       "<div>\n",
       "<style scoped>\n",
       "    .dataframe tbody tr th:only-of-type {\n",
       "        vertical-align: middle;\n",
       "    }\n",
       "\n",
       "    .dataframe tbody tr th {\n",
       "        vertical-align: top;\n",
       "    }\n",
       "\n",
       "    .dataframe thead th {\n",
       "        text-align: right;\n",
       "    }\n",
       "</style>\n",
       "<table border=\"1\" class=\"dataframe\">\n",
       "  <thead>\n",
       "    <tr style=\"text-align: right;\">\n",
       "      <th></th>\n",
       "      <th>Survived</th>\n",
       "    </tr>\n",
       "    <tr>\n",
       "      <th>HighFare</th>\n",
       "      <th></th>\n",
       "    </tr>\n",
       "  </thead>\n",
       "  <tbody>\n",
       "    <tr>\n",
       "      <th>1</th>\n",
       "      <td>0.495495</td>\n",
       "    </tr>\n",
       "    <tr>\n",
       "      <th>0</th>\n",
       "      <td>0.199405</td>\n",
       "    </tr>\n",
       "  </tbody>\n",
       "</table>\n",
       "</div>"
      ],
      "text/plain": [
       "          Survived\n",
       "HighFare          \n",
       "1         0.495495\n",
       "0         0.199405"
      ]
     },
     "metadata": {},
     "output_type": "display_data"
    },
    {
     "data": {
      "text/plain": [
       "1    555\n",
       "0    336\n",
       "Name: HighFare, dtype: int64"
      ]
     },
     "execution_count": 15,
     "metadata": {},
     "output_type": "execute_result"
    }
   ],
   "source": [
    "train_investigate['HighFare'] = (train_investigate['Fare'] > 10) * 1\n",
    "test_investigate['HighFare'] = (test_investigate['Fare'] > 10) * 1\n",
    "display(train_investigate.groupby('HighFare').mean()[['Survived']].sort_values(by='Survived', ascending=False))\n",
    "train_investigate['HighFare'].value_counts()"
   ]
  },
  {
   "cell_type": "markdown",
   "id": "88e4114b",
   "metadata": {},
   "source": [
    "## Embarked\n",
    "\n",
    "People who embarked from port C had the highest chance of survival, and people who embarked from port S had the lowest chance of survival"
   ]
  },
  {
   "cell_type": "code",
   "execution_count": 16,
   "id": "8c38d285",
   "metadata": {},
   "outputs": [
    {
     "data": {
      "text/plain": [
       "S    644\n",
       "C    168\n",
       "Q     77\n",
       "Name: Embarked, dtype: int64"
      ]
     },
     "metadata": {},
     "output_type": "display_data"
    },
    {
     "data": {
      "text/html": [
       "<div>\n",
       "<style scoped>\n",
       "    .dataframe tbody tr th:only-of-type {\n",
       "        vertical-align: middle;\n",
       "    }\n",
       "\n",
       "    .dataframe tbody tr th {\n",
       "        vertical-align: top;\n",
       "    }\n",
       "\n",
       "    .dataframe thead th {\n",
       "        text-align: right;\n",
       "    }\n",
       "</style>\n",
       "<table border=\"1\" class=\"dataframe\">\n",
       "  <thead>\n",
       "    <tr style=\"text-align: right;\">\n",
       "      <th></th>\n",
       "      <th>Survived</th>\n",
       "    </tr>\n",
       "    <tr>\n",
       "      <th>Embarked</th>\n",
       "      <th></th>\n",
       "    </tr>\n",
       "  </thead>\n",
       "  <tbody>\n",
       "    <tr>\n",
       "      <th>C</th>\n",
       "      <td>0.553571</td>\n",
       "    </tr>\n",
       "    <tr>\n",
       "      <th>Q</th>\n",
       "      <td>0.389610</td>\n",
       "    </tr>\n",
       "    <tr>\n",
       "      <th>S</th>\n",
       "      <td>0.336957</td>\n",
       "    </tr>\n",
       "  </tbody>\n",
       "</table>\n",
       "</div>"
      ],
      "text/plain": [
       "          Survived\n",
       "Embarked          \n",
       "C         0.553571\n",
       "Q         0.389610\n",
       "S         0.336957"
      ]
     },
     "metadata": {},
     "output_type": "display_data"
    }
   ],
   "source": [
    "display(train_investigate['Embarked'].value_counts())\n",
    "display(train_investigate.groupby('Embarked').mean()[['Survived']])\n",
    "train_investigate['Embarked'] = train_investigate['Embarked'].fillna('S')"
   ]
  },
  {
   "cell_type": "code",
   "execution_count": 17,
   "id": "1ca06a06",
   "metadata": {},
   "outputs": [],
   "source": [
    "train_investigate['EmbarkedGroup'] = 1 - ((train_investigate['Embarked'] == 'C')) * 1\n",
    "test_investigate['EmbarkedGroup'] = 1 - ((test_investigate['Embarked'] == 'C')) * 1\n",
    "train_investigate['Pclass1'] = (train_investigate['Pclass'] == 1) * 1\n",
    "test_investigate['Pclass1'] = (test_investigate['Pclass'] == 1) * 1"
   ]
  },
  {
   "cell_type": "markdown",
   "id": "f8d65980",
   "metadata": {},
   "source": [
    "## Drop Unused Features"
   ]
  },
  {
   "cell_type": "code",
   "execution_count": 18,
   "id": "0ed9010f",
   "metadata": {},
   "outputs": [
    {
     "data": {
      "text/html": [
       "<div>\n",
       "<style scoped>\n",
       "    .dataframe tbody tr th:only-of-type {\n",
       "        vertical-align: middle;\n",
       "    }\n",
       "\n",
       "    .dataframe tbody tr th {\n",
       "        vertical-align: top;\n",
       "    }\n",
       "\n",
       "    .dataframe thead th {\n",
       "        text-align: right;\n",
       "    }\n",
       "</style>\n",
       "<table border=\"1\" class=\"dataframe\">\n",
       "  <thead>\n",
       "    <tr style=\"text-align: right;\">\n",
       "      <th></th>\n",
       "      <th>Survived</th>\n",
       "      <th>Pclass3</th>\n",
       "      <th>CommonTitle</th>\n",
       "      <th>Female</th>\n",
       "      <th>Adult</th>\n",
       "      <th>CommonFamilySize</th>\n",
       "      <th>HighFare</th>\n",
       "      <th>EmbarkedGroup</th>\n",
       "      <th>Pclass1</th>\n",
       "    </tr>\n",
       "  </thead>\n",
       "  <tbody>\n",
       "    <tr>\n",
       "      <th>0</th>\n",
       "      <td>0</td>\n",
       "      <td>1</td>\n",
       "      <td>1</td>\n",
       "      <td>0</td>\n",
       "      <td>1</td>\n",
       "      <td>0</td>\n",
       "      <td>0</td>\n",
       "      <td>1</td>\n",
       "      <td>0</td>\n",
       "    </tr>\n",
       "    <tr>\n",
       "      <th>1</th>\n",
       "      <td>1</td>\n",
       "      <td>0</td>\n",
       "      <td>0</td>\n",
       "      <td>1</td>\n",
       "      <td>1</td>\n",
       "      <td>0</td>\n",
       "      <td>1</td>\n",
       "      <td>0</td>\n",
       "      <td>1</td>\n",
       "    </tr>\n",
       "    <tr>\n",
       "      <th>2</th>\n",
       "      <td>1</td>\n",
       "      <td>1</td>\n",
       "      <td>0</td>\n",
       "      <td>1</td>\n",
       "      <td>1</td>\n",
       "      <td>1</td>\n",
       "      <td>0</td>\n",
       "      <td>1</td>\n",
       "      <td>0</td>\n",
       "    </tr>\n",
       "  </tbody>\n",
       "</table>\n",
       "</div>"
      ],
      "text/plain": [
       "   Survived  Pclass3  CommonTitle  Female  Adult  CommonFamilySize  HighFare  \\\n",
       "0         0        1            1       0      1                 0         0   \n",
       "1         1        0            0       1      1                 0         1   \n",
       "2         1        1            0       1      1                 1         0   \n",
       "\n",
       "   EmbarkedGroup  Pclass1  \n",
       "0              1        0  \n",
       "1              0        1  \n",
       "2              1        0  "
      ]
     },
     "metadata": {},
     "output_type": "display_data"
    },
    {
     "data": {
      "text/html": [
       "<div>\n",
       "<style scoped>\n",
       "    .dataframe tbody tr th:only-of-type {\n",
       "        vertical-align: middle;\n",
       "    }\n",
       "\n",
       "    .dataframe tbody tr th {\n",
       "        vertical-align: top;\n",
       "    }\n",
       "\n",
       "    .dataframe thead th {\n",
       "        text-align: right;\n",
       "    }\n",
       "</style>\n",
       "<table border=\"1\" class=\"dataframe\">\n",
       "  <thead>\n",
       "    <tr style=\"text-align: right;\">\n",
       "      <th></th>\n",
       "      <th>PassengerId</th>\n",
       "      <th>Pclass3</th>\n",
       "      <th>CommonTitle</th>\n",
       "      <th>Female</th>\n",
       "      <th>Adult</th>\n",
       "      <th>CommonFamilySize</th>\n",
       "      <th>HighFare</th>\n",
       "      <th>EmbarkedGroup</th>\n",
       "      <th>Pclass1</th>\n",
       "    </tr>\n",
       "  </thead>\n",
       "  <tbody>\n",
       "    <tr>\n",
       "      <th>0</th>\n",
       "      <td>892</td>\n",
       "      <td>1</td>\n",
       "      <td>1</td>\n",
       "      <td>0</td>\n",
       "      <td>1</td>\n",
       "      <td>1</td>\n",
       "      <td>0</td>\n",
       "      <td>1</td>\n",
       "      <td>0</td>\n",
       "    </tr>\n",
       "    <tr>\n",
       "      <th>1</th>\n",
       "      <td>893</td>\n",
       "      <td>1</td>\n",
       "      <td>0</td>\n",
       "      <td>1</td>\n",
       "      <td>1</td>\n",
       "      <td>0</td>\n",
       "      <td>0</td>\n",
       "      <td>1</td>\n",
       "      <td>0</td>\n",
       "    </tr>\n",
       "    <tr>\n",
       "      <th>2</th>\n",
       "      <td>894</td>\n",
       "      <td>0</td>\n",
       "      <td>1</td>\n",
       "      <td>0</td>\n",
       "      <td>1</td>\n",
       "      <td>1</td>\n",
       "      <td>0</td>\n",
       "      <td>1</td>\n",
       "      <td>0</td>\n",
       "    </tr>\n",
       "  </tbody>\n",
       "</table>\n",
       "</div>"
      ],
      "text/plain": [
       "   PassengerId  Pclass3  CommonTitle  Female  Adult  CommonFamilySize  \\\n",
       "0          892        1            1       0      1                 1   \n",
       "1          893        1            0       1      1                 0   \n",
       "2          894        0            1       0      1                 1   \n",
       "\n",
       "   HighFare  EmbarkedGroup  Pclass1  \n",
       "0         0              1        0  \n",
       "1         0              1        0  \n",
       "2         0              1        0  "
      ]
     },
     "metadata": {},
     "output_type": "display_data"
    },
    {
     "data": {
      "text/plain": [
       "(None, None)"
      ]
     },
     "execution_count": 18,
     "metadata": {},
     "output_type": "execute_result"
    }
   ],
   "source": [
    "unused_features_investigate = [\n",
    "    'Cabin', 'Name', 'Sex', 'SibSp', 'Parch', 'Fare', 'Ticket', 'Age', 'Pclass', 'Embarked', 'Title'\n",
    "]\n",
    "train = train_investigate.copy(deep=True).drop(unused_features_investigate, axis=1)\n",
    "test = test_investigate.copy(deep=True).drop(unused_features_investigate, axis=1)\n",
    "display(train.head(3)), display(test.head(3))"
   ]
  },
  {
   "cell_type": "markdown",
   "id": "3854390f",
   "metadata": {},
   "source": [
    "# Data Preprocessing"
   ]
  },
  {
   "cell_type": "code",
   "execution_count": 19,
   "id": "cc45b890",
   "metadata": {},
   "outputs": [],
   "source": [
    "def process_data(df):\n",
    "    pca = PCA()\n",
    "    return pca.fit_transform(df)\n",
    "\n",
    "def train_validation_split(df, seed=None, size=0.85):\n",
    "    X, Y = df.iloc[:, 1:], df['Survived']\n",
    "    X_train, X_val, Y_train, Y_val = train_test_split(X, Y, train_size=size, random_state=seed)\n",
    "    X_train, X_val = process_data(X_train), process_data(X_val)\n",
    "    return X_train, Y_train, X_val, Y_val\n",
    "\n",
    "X_train, Y_train, X_val, Y_val = train_validation_split(train, seed=42, size=0.90)"
   ]
  },
  {
   "cell_type": "markdown",
   "id": "b443b9c6",
   "metadata": {},
   "source": [
    "# Hyperparameter Tuning MLP Classifier"
   ]
  },
  {
   "cell_type": "code",
   "execution_count": 20,
   "id": "70bbc9f9",
   "metadata": {},
   "outputs": [
    {
     "data": {
      "text/plain": [
       "(0.7667, 'identity', 'sgd')"
      ]
     },
     "execution_count": 20,
     "metadata": {},
     "output_type": "execute_result"
    }
   ],
   "source": [
    "def get_accuracy(clf, X, Y):\n",
    "    Y_preds = clf.predict(X)\n",
    "    score = accuracy_score(Y_preds, Y)\n",
    "    return np.round(score, 4)\n",
    "    \n",
    "best_accuracy, best_clf = 0, None\n",
    "solvers = ['lbfgs', 'sgd', 'adam']\n",
    "\n",
    "for solver in solvers:\n",
    "    clf = MLPClassifier(\n",
    "        activation = 'identity',\n",
    "        solver = solver,\n",
    "        random_state = 42\n",
    "    )\n",
    "    clf.fit(X_train, Y_train)\n",
    "    accuracy = get_accuracy(clf, X_val, Y_val)\n",
    "    if accuracy > best_accuracy:\n",
    "        best_accuracy = accuracy\n",
    "        best_clf = clf\n",
    "\n",
    "best_accuracy, best_clf.activation, best_clf.solver"
   ]
  },
  {
   "cell_type": "markdown",
   "id": "38029bbf",
   "metadata": {},
   "source": [
    "# Prediction on test set"
   ]
  },
  {
   "cell_type": "code",
   "execution_count": 21,
   "id": "5f8b35a1",
   "metadata": {},
   "outputs": [
    {
     "data": {
      "text/html": [
       "<div>\n",
       "<style scoped>\n",
       "    .dataframe tbody tr th:only-of-type {\n",
       "        vertical-align: middle;\n",
       "    }\n",
       "\n",
       "    .dataframe tbody tr th {\n",
       "        vertical-align: top;\n",
       "    }\n",
       "\n",
       "    .dataframe thead th {\n",
       "        text-align: right;\n",
       "    }\n",
       "</style>\n",
       "<table border=\"1\" class=\"dataframe\">\n",
       "  <thead>\n",
       "    <tr style=\"text-align: right;\">\n",
       "      <th></th>\n",
       "      <th>Survived</th>\n",
       "    </tr>\n",
       "    <tr>\n",
       "      <th>PassengerId</th>\n",
       "      <th></th>\n",
       "    </tr>\n",
       "  </thead>\n",
       "  <tbody>\n",
       "    <tr>\n",
       "      <th>892</th>\n",
       "      <td>0</td>\n",
       "    </tr>\n",
       "    <tr>\n",
       "      <th>893</th>\n",
       "      <td>1</td>\n",
       "    </tr>\n",
       "    <tr>\n",
       "      <th>894</th>\n",
       "      <td>0</td>\n",
       "    </tr>\n",
       "    <tr>\n",
       "      <th>895</th>\n",
       "      <td>0</td>\n",
       "    </tr>\n",
       "    <tr>\n",
       "      <th>896</th>\n",
       "      <td>1</td>\n",
       "    </tr>\n",
       "    <tr>\n",
       "      <th>...</th>\n",
       "      <td>...</td>\n",
       "    </tr>\n",
       "    <tr>\n",
       "      <th>1305</th>\n",
       "      <td>0</td>\n",
       "    </tr>\n",
       "    <tr>\n",
       "      <th>1306</th>\n",
       "      <td>1</td>\n",
       "    </tr>\n",
       "    <tr>\n",
       "      <th>1307</th>\n",
       "      <td>0</td>\n",
       "    </tr>\n",
       "    <tr>\n",
       "      <th>1308</th>\n",
       "      <td>0</td>\n",
       "    </tr>\n",
       "    <tr>\n",
       "      <th>1309</th>\n",
       "      <td>0</td>\n",
       "    </tr>\n",
       "  </tbody>\n",
       "</table>\n",
       "<p>418 rows × 1 columns</p>\n",
       "</div>"
      ],
      "text/plain": [
       "             Survived\n",
       "PassengerId          \n",
       "892                 0\n",
       "893                 1\n",
       "894                 0\n",
       "895                 0\n",
       "896                 1\n",
       "...               ...\n",
       "1305                0\n",
       "1306                1\n",
       "1307                0\n",
       "1308                0\n",
       "1309                0\n",
       "\n",
       "[418 rows x 1 columns]"
      ]
     },
     "execution_count": 21,
     "metadata": {},
     "output_type": "execute_result"
    }
   ],
   "source": [
    "def predict(best_classifier, save=False):\n",
    "    passenger_id = test['PassengerId']\n",
    "    X_test = process_data(test.iloc[:, 1:])\n",
    "    Y_pred_test = clf.predict(X_test)\n",
    "    output = pd.DataFrame(np.array([passenger_id, Y_pred_test]).T, columns=['PassengerId', 'Survived'])\n",
    "    output = output.set_index('PassengerId')\n",
    "    if save:\n",
    "        output.to_csv('Predictions.csv')\n",
    "    return output\n",
    "\n",
    "predict(best_clf, save=True)"
   ]
  }
 ],
 "metadata": {
  "kernelspec": {
   "display_name": "Python 3 (ipykernel)",
   "language": "python",
   "name": "python3"
  },
  "language_info": {
   "codemirror_mode": {
    "name": "ipython",
    "version": 3
   },
   "file_extension": ".py",
   "mimetype": "text/x-python",
   "name": "python",
   "nbconvert_exporter": "python",
   "pygments_lexer": "ipython3",
   "version": "3.9.13"
  }
 },
 "nbformat": 4,
 "nbformat_minor": 5
}
