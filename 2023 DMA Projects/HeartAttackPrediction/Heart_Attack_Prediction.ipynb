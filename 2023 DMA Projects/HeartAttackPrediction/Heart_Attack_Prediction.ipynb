{
 "cells": [
  {
   "cell_type": "markdown",
   "id": "6bdc90a1",
   "metadata": {},
   "source": [
    "Team Members: Yasaman Ebrahimi, Jimmy Do, Nico Conanan, Stephen Hwang"
   ]
  },
  {
   "cell_type": "markdown",
   "id": "788f80ee",
   "metadata": {},
   "source": [
    "# Introduction\n",
    "\n",
    "This goal of this project is to predict who is most likely to have a heart attack based on risk factors such as age, sex, chest pain type, and many other factors. \n",
    "\n",
    "Currently, Heart Disease is the leading cause of death in the United States, and it accounts for around 20% of total deaths. According to the CDC, 805,000 people in the United States have a heart attack every year, and 20\\% of people who have a heart attack don't realize what's happened to them. \n",
    "\n",
    "Additionally, the total medical cost of Heart Disease in the United States is $230 billion. \n",
    "\n",
    "By attempting to predict heart attacks early, treatment and prevention could be given early to save lives and reduce medical costs.\n",
    "\n",
    "CDC Heart Disease Facts: https://www.cdc.gov/heartdisease/facts.htm\n",
    "\n",
    "**Definitions**: \n",
    "\n",
    "  - Angina - a type of chest pain caused by reduced blood flow to the heart\n",
    "  \n",
    "  ![angina.png](angina.png)"
   ]
  },
  {
   "cell_type": "markdown",
   "id": "a189ebce",
   "metadata": {},
   "source": [
    "$\\ $"
   ]
  },
  {
   "cell_type": "markdown",
   "id": "170352ed",
   "metadata": {},
   "source": [
    "$\\ $"
   ]
  },
  {
   "cell_type": "markdown",
   "id": "a46c1abb",
   "metadata": {},
   "source": [
    "$\\ $"
   ]
  },
  {
   "cell_type": "markdown",
   "id": "1ddd4377",
   "metadata": {},
   "source": [
    "  - Electrocardiography - the process of producing a recording of the heart's electrical activity\n",
    "  \n",
    "  ![ecg.png](ecg.png)\n",
    "  \n",
    "  - Hypertrophy - the enlargement of an organ or tissue from the increase in size of its cells\n",
    "  \n",
    "  ![hypertrophy.png](hypertrophy.png)\n",
    "  \n",
    "  - Fluoroscopy - making a real-time video of the movements inside a part of the body by passing x-rays through the body\n",
    "  \n",
    "  ![fluoroscopy.jpg](fluoroscopy.jpg)\n",
    "  \n",
    "  - Thalassemia - an inherited blood disorder that causes your body to have less hemoglobin than normal\n",
    "\n",
    "This project will use both a Logistic Regression Classifier and a Random Forest Classifier to predict whether a patient will have a heart attack based on their risk factors. We will then compare the accuracy of the results."
   ]
  },
  {
   "cell_type": "markdown",
   "id": "bb2acf2b",
   "metadata": {},
   "source": [
    "# Dataset\n",
    "\n",
    "## Exploration"
   ]
  },
  {
   "cell_type": "code",
   "execution_count": 1,
   "id": "b4f3c6a2",
   "metadata": {},
   "outputs": [],
   "source": [
    "# all imports\n",
    "import pandas as pd\n",
    "import numpy as np\n",
    "from matplotlib import pyplot as plt\n",
    "from sklearn.ensemble import RandomForestClassifier\n",
    "from sklearn.model_selection import train_test_split\n",
    "from sklearn.metrics import accuracy_score\n",
    "from sklearn.linear_model import LogisticRegression\n",
    "from itertools import product\n",
    "import warnings\n",
    "warnings.filterwarnings('ignore')\n",
    "%matplotlib inline"
   ]
  },
  {
   "cell_type": "code",
   "execution_count": 2,
   "id": "d9082f09",
   "metadata": {},
   "outputs": [
    {
     "data": {
      "text/html": [
       "<div>\n",
       "<style scoped>\n",
       "    .dataframe tbody tr th:only-of-type {\n",
       "        vertical-align: middle;\n",
       "    }\n",
       "\n",
       "    .dataframe tbody tr th {\n",
       "        vertical-align: top;\n",
       "    }\n",
       "\n",
       "    .dataframe thead th {\n",
       "        text-align: right;\n",
       "    }\n",
       "</style>\n",
       "<table border=\"1\" class=\"dataframe\">\n",
       "  <thead>\n",
       "    <tr style=\"text-align: right;\">\n",
       "      <th></th>\n",
       "      <th>age</th>\n",
       "      <th>sex</th>\n",
       "      <th>cp</th>\n",
       "      <th>trtbps</th>\n",
       "      <th>chol</th>\n",
       "      <th>fbs</th>\n",
       "      <th>restecg</th>\n",
       "      <th>thalachh</th>\n",
       "      <th>exng</th>\n",
       "      <th>caa</th>\n",
       "      <th>thall</th>\n",
       "      <th>output</th>\n",
       "    </tr>\n",
       "  </thead>\n",
       "  <tbody>\n",
       "    <tr>\n",
       "      <th>0</th>\n",
       "      <td>63</td>\n",
       "      <td>1</td>\n",
       "      <td>3</td>\n",
       "      <td>145</td>\n",
       "      <td>233</td>\n",
       "      <td>1</td>\n",
       "      <td>0</td>\n",
       "      <td>150</td>\n",
       "      <td>0</td>\n",
       "      <td>0</td>\n",
       "      <td>1</td>\n",
       "      <td>1</td>\n",
       "    </tr>\n",
       "    <tr>\n",
       "      <th>1</th>\n",
       "      <td>37</td>\n",
       "      <td>1</td>\n",
       "      <td>2</td>\n",
       "      <td>130</td>\n",
       "      <td>250</td>\n",
       "      <td>0</td>\n",
       "      <td>1</td>\n",
       "      <td>187</td>\n",
       "      <td>0</td>\n",
       "      <td>0</td>\n",
       "      <td>2</td>\n",
       "      <td>1</td>\n",
       "    </tr>\n",
       "    <tr>\n",
       "      <th>2</th>\n",
       "      <td>41</td>\n",
       "      <td>0</td>\n",
       "      <td>1</td>\n",
       "      <td>130</td>\n",
       "      <td>204</td>\n",
       "      <td>0</td>\n",
       "      <td>0</td>\n",
       "      <td>172</td>\n",
       "      <td>0</td>\n",
       "      <td>0</td>\n",
       "      <td>2</td>\n",
       "      <td>1</td>\n",
       "    </tr>\n",
       "  </tbody>\n",
       "</table>\n",
       "</div>"
      ],
      "text/plain": [
       "   age  sex  cp  trtbps  chol  fbs  restecg  thalachh  exng  caa  thall  \\\n",
       "0   63    1   3     145   233    1        0       150     0    0      1   \n",
       "1   37    1   2     130   250    0        1       187     0    0      2   \n",
       "2   41    0   1     130   204    0        0       172     0    0      2   \n",
       "\n",
       "   output  \n",
       "0       1  \n",
       "1       1  \n",
       "2       1  "
      ]
     },
     "execution_count": 2,
     "metadata": {},
     "output_type": "execute_result"
    }
   ],
   "source": [
    "heart = pd.read_csv('heart.csv').drop(['oldpeak', 'slp'], axis=1)\n",
    "heart.head(3)"
   ]
  },
  {
   "cell_type": "markdown",
   "id": "25d239e3",
   "metadata": {},
   "source": [
    "Raw Data: https://www.kaggle.com/datasets/rashikrahmanpritom/heart-attack-analysis-prediction-dataset"
   ]
  },
  {
   "cell_type": "code",
   "execution_count": 3,
   "id": "58bb7853",
   "metadata": {},
   "outputs": [
    {
     "data": {
      "text/html": [
       "<div>\n",
       "<style scoped>\n",
       "    .dataframe tbody tr th:only-of-type {\n",
       "        vertical-align: middle;\n",
       "    }\n",
       "\n",
       "    .dataframe tbody tr th {\n",
       "        vertical-align: top;\n",
       "    }\n",
       "\n",
       "    .dataframe thead th {\n",
       "        text-align: right;\n",
       "    }\n",
       "</style>\n",
       "<table border=\"1\" class=\"dataframe\">\n",
       "  <thead>\n",
       "    <tr style=\"text-align: right;\">\n",
       "      <th></th>\n",
       "      <th>age</th>\n",
       "      <th>sex</th>\n",
       "      <th>cp</th>\n",
       "      <th>trtbps</th>\n",
       "      <th>chol</th>\n",
       "      <th>fbs</th>\n",
       "      <th>restecg</th>\n",
       "      <th>thalachh</th>\n",
       "      <th>exng</th>\n",
       "      <th>caa</th>\n",
       "      <th>thall</th>\n",
       "      <th>output</th>\n",
       "    </tr>\n",
       "  </thead>\n",
       "  <tbody>\n",
       "    <tr>\n",
       "      <th>mean</th>\n",
       "      <td>54.366337</td>\n",
       "      <td>0.683168</td>\n",
       "      <td>0.966997</td>\n",
       "      <td>131.623762</td>\n",
       "      <td>246.264026</td>\n",
       "      <td>0.148515</td>\n",
       "      <td>0.528053</td>\n",
       "      <td>149.646865</td>\n",
       "      <td>0.326733</td>\n",
       "      <td>0.729373</td>\n",
       "      <td>2.313531</td>\n",
       "      <td>0.544554</td>\n",
       "    </tr>\n",
       "    <tr>\n",
       "      <th>min</th>\n",
       "      <td>29.000000</td>\n",
       "      <td>0.000000</td>\n",
       "      <td>0.000000</td>\n",
       "      <td>94.000000</td>\n",
       "      <td>126.000000</td>\n",
       "      <td>0.000000</td>\n",
       "      <td>0.000000</td>\n",
       "      <td>71.000000</td>\n",
       "      <td>0.000000</td>\n",
       "      <td>0.000000</td>\n",
       "      <td>0.000000</td>\n",
       "      <td>0.000000</td>\n",
       "    </tr>\n",
       "    <tr>\n",
       "      <th>25%</th>\n",
       "      <td>47.500000</td>\n",
       "      <td>0.000000</td>\n",
       "      <td>0.000000</td>\n",
       "      <td>120.000000</td>\n",
       "      <td>211.000000</td>\n",
       "      <td>0.000000</td>\n",
       "      <td>0.000000</td>\n",
       "      <td>133.500000</td>\n",
       "      <td>0.000000</td>\n",
       "      <td>0.000000</td>\n",
       "      <td>2.000000</td>\n",
       "      <td>0.000000</td>\n",
       "    </tr>\n",
       "    <tr>\n",
       "      <th>75%</th>\n",
       "      <td>61.000000</td>\n",
       "      <td>1.000000</td>\n",
       "      <td>2.000000</td>\n",
       "      <td>140.000000</td>\n",
       "      <td>274.500000</td>\n",
       "      <td>0.000000</td>\n",
       "      <td>1.000000</td>\n",
       "      <td>166.000000</td>\n",
       "      <td>1.000000</td>\n",
       "      <td>1.000000</td>\n",
       "      <td>3.000000</td>\n",
       "      <td>1.000000</td>\n",
       "    </tr>\n",
       "    <tr>\n",
       "      <th>max</th>\n",
       "      <td>77.000000</td>\n",
       "      <td>1.000000</td>\n",
       "      <td>3.000000</td>\n",
       "      <td>200.000000</td>\n",
       "      <td>564.000000</td>\n",
       "      <td>1.000000</td>\n",
       "      <td>2.000000</td>\n",
       "      <td>202.000000</td>\n",
       "      <td>1.000000</td>\n",
       "      <td>4.000000</td>\n",
       "      <td>3.000000</td>\n",
       "      <td>1.000000</td>\n",
       "    </tr>\n",
       "  </tbody>\n",
       "</table>\n",
       "</div>"
      ],
      "text/plain": [
       "            age       sex        cp      trtbps        chol       fbs  \\\n",
       "mean  54.366337  0.683168  0.966997  131.623762  246.264026  0.148515   \n",
       "min   29.000000  0.000000  0.000000   94.000000  126.000000  0.000000   \n",
       "25%   47.500000  0.000000  0.000000  120.000000  211.000000  0.000000   \n",
       "75%   61.000000  1.000000  2.000000  140.000000  274.500000  0.000000   \n",
       "max   77.000000  1.000000  3.000000  200.000000  564.000000  1.000000   \n",
       "\n",
       "       restecg    thalachh      exng       caa     thall    output  \n",
       "mean  0.528053  149.646865  0.326733  0.729373  2.313531  0.544554  \n",
       "min   0.000000   71.000000  0.000000  0.000000  0.000000  0.000000  \n",
       "25%   0.000000  133.500000  0.000000  0.000000  2.000000  0.000000  \n",
       "75%   1.000000  166.000000  1.000000  1.000000  3.000000  1.000000  \n",
       "max   2.000000  202.000000  1.000000  4.000000  3.000000  1.000000  "
      ]
     },
     "execution_count": 3,
     "metadata": {},
     "output_type": "execute_result"
    }
   ],
   "source": [
    "heart.describe().loc[['mean', 'min', '25%', '75%', 'max']]"
   ]
  },
  {
   "cell_type": "markdown",
   "id": "7de1cd26",
   "metadata": {},
   "source": [
    "**Features:**\n",
    "\n",
    " - Age \n",
    "     - numerical, 29 years - 77 years\n",
    " - Sex \n",
    "     - categorical, 1 = male, 0 = female\n",
    " - CP (Chest Pain Type)\n",
    "     - 3 = asymptomatic\n",
    "     - 0 = typical angina\n",
    "     - 1 = atypical angina\n",
    "     - 2 = non-anginal pain\n",
    " - TrtBPS (Resting Blood Pressure)\n",
    "     - numerical, 94 mmHg - 200 mmHg\n",
    " - Chol (Serum Cholesterol)\n",
    "     - numerical, 126 mg/dL - 564 mg/dL\n",
    " - FBS (Fasting Blood Sugar)\n",
    "     - categorical, 1 if > 120 mg/dL, 0 else\n",
    " - RestECG (Resting electrocardiographic)\n",
    "     - 0 = hypertrophy\n",
    "     - 1 = normal\n",
    "     - 2 = having ST-T wave abnormality\n",
    " - Thalachh (Maximum Heart Rate)\n",
    "     - numerical, 71 bmp - 202 bmp\n",
    " - Exng (exercise induced angina)\n",
    "     - categorical, 1 = yes, 0 = no\n",
    " - CAA (number of major vessels colored by Fluoroscopy)\n",
    "     - numerical, 0 vessels - 4 vessels\n",
    " - Thall (effect of Thalessemia)\n",
    "     - 1 = fixed defect\n",
    "     - 2 = normal\n",
    "     - 3 = reversible defect\n",
    " - Output\n",
    "     - 0 = low heart attack chance\n",
    "     - 1 = high heart attack chance"
   ]
  },
  {
   "cell_type": "markdown",
   "id": "b3d181a4",
   "metadata": {},
   "source": [
    "$\\ $"
   ]
  },
  {
   "cell_type": "markdown",
   "id": "ee97108a",
   "metadata": {},
   "source": [
    "$\\ $"
   ]
  },
  {
   "cell_type": "markdown",
   "id": "61b7ae63",
   "metadata": {},
   "source": [
    "$\\ $"
   ]
  },
  {
   "cell_type": "markdown",
   "id": "055b3651",
   "metadata": {},
   "source": [
    "$\\ $"
   ]
  },
  {
   "cell_type": "markdown",
   "id": "b580b733",
   "metadata": {},
   "source": [
    "$\\ $"
   ]
  },
  {
   "cell_type": "markdown",
   "id": "1ba0401d",
   "metadata": {},
   "source": [
    "$\\ $"
   ]
  },
  {
   "cell_type": "markdown",
   "id": "718e4438",
   "metadata": {},
   "source": [
    "$\\ $"
   ]
  },
  {
   "cell_type": "markdown",
   "id": "e0faabce",
   "metadata": {},
   "source": [
    "$\\ $"
   ]
  },
  {
   "cell_type": "code",
   "execution_count": 4,
   "id": "45a7e430",
   "metadata": {},
   "outputs": [],
   "source": [
    "def bar_plot(col):\n",
    "    plt.figure(figsize = (6, 4))\n",
    "    heart_attack = heart[heart['output'] == 1]\n",
    "    no_heart_attack = heart[heart['output'] == 0]\n",
    "    heart_attack_percent = heart_attack[col].value_counts() / heart_attack.shape[0]\n",
    "    no_heart_attack_percent = no_heart_attack[col].value_counts() / no_heart_attack.shape[0]\n",
    "    feature = heart_attack[col].unique()\n",
    "    count = len(feature)\n",
    "    plt.bar(feature - 0.2, heart_attack_percent, 0.4, label='heart attack')\n",
    "    plt.bar(feature + 0.2, no_heart_attack_percent, 0.4, label='no heart attack')\n",
    "    plt.xticks(feature)\n",
    "    plt.xlabel(col), plt.ylabel('Percent')\n",
    "    plt.title(col + ' based on heart attack diagnoses')\n",
    "    plt.legend();\n",
    "    \n",
    "    \n",
    "def hist_plot(col):\n",
    "    plt.figure(figsize = (6, 4))\n",
    "    heart_attack = heart[heart['output'] == 1]\n",
    "    no_heart_attack = heart[heart['output'] == 0]\n",
    "    plt.hist(heart_attack[col], ec='white', density=True, alpha=0.5, label='heart attack')\n",
    "    plt.hist(no_heart_attack[col], ec='white', density=True, alpha=0.5, label='no heart attack')\n",
    "    plt.xlabel(col), plt.ylabel('Density')\n",
    "    plt.title(col + ' of patients based on heart attack diagnoses')\n",
    "    plt.legend();"
   ]
  },
  {
   "cell_type": "markdown",
   "id": "8bb7174b",
   "metadata": {},
   "source": [
    "$\\ $"
   ]
  },
  {
   "cell_type": "markdown",
   "id": "73a5c8b4",
   "metadata": {},
   "source": [
    "$\\ $"
   ]
  },
  {
   "cell_type": "markdown",
   "id": "6fd39888",
   "metadata": {},
   "source": [
    "$\\ $"
   ]
  },
  {
   "cell_type": "markdown",
   "id": "e880b879",
   "metadata": {},
   "source": [
    "$\\ $"
   ]
  },
  {
   "cell_type": "markdown",
   "id": "467b5e46",
   "metadata": {},
   "source": [
    "$\\ $"
   ]
  },
  {
   "cell_type": "markdown",
   "id": "fcac3b45",
   "metadata": {},
   "source": [
    "$\\ $"
   ]
  },
  {
   "cell_type": "markdown",
   "id": "6cb6ff42",
   "metadata": {},
   "source": [
    "$\\ $"
   ]
  },
  {
   "cell_type": "markdown",
   "id": "3605668b",
   "metadata": {},
   "source": [
    "$\\ $"
   ]
  },
  {
   "cell_type": "markdown",
   "id": "a75c72bd",
   "metadata": {},
   "source": [
    "$\\ $"
   ]
  },
  {
   "cell_type": "markdown",
   "id": "99f41481",
   "metadata": {},
   "source": [
    "### Age\n",
    "\n",
    "This is a numerical feature that ranges from 29 years - 77 years. \n",
    "\n",
    "Counterintuitively, the people who have heart attacks are more likely to be slightly younger. This could indicate a potential confounding factor in the dataset."
   ]
  },
  {
   "cell_type": "code",
   "execution_count": 5,
   "id": "d02eb056",
   "metadata": {},
   "outputs": [
    {
     "data": {
      "image/png": "[encoded data removed]",
      "text/plain": [
       "<Figure size 600x400 with 1 Axes>"
      ]
     },
     "metadata": {},
     "output_type": "display_data"
    }
   ],
   "source": [
    "hist_plot('age')"
   ]
  },
  {
   "cell_type": "markdown",
   "id": "374bc64a",
   "metadata": {},
   "source": [
    "$\\ $"
   ]
  },
  {
   "cell_type": "markdown",
   "id": "ff60a890",
   "metadata": {},
   "source": [
    "$\\ $"
   ]
  },
  {
   "cell_type": "markdown",
   "id": "9576bdbc",
   "metadata": {},
   "source": [
    "$\\ $"
   ]
  },
  {
   "cell_type": "markdown",
   "id": "44fb96c9",
   "metadata": {},
   "source": [
    "$\\ $"
   ]
  },
  {
   "cell_type": "markdown",
   "id": "ba182bac",
   "metadata": {},
   "source": [
    "$\\ $"
   ]
  },
  {
   "cell_type": "markdown",
   "id": "3cbd35f8",
   "metadata": {},
   "source": [
    "$\\ $"
   ]
  },
  {
   "cell_type": "markdown",
   "id": "5401aeaf",
   "metadata": {},
   "source": [
    "$\\ $"
   ]
  },
  {
   "cell_type": "markdown",
   "id": "e482ded6",
   "metadata": {},
   "source": [
    "$\\ $"
   ]
  },
  {
   "cell_type": "markdown",
   "id": "ac269650",
   "metadata": {},
   "source": [
    "$\\ $"
   ]
  },
  {
   "cell_type": "markdown",
   "id": "38d7f769",
   "metadata": {},
   "source": [
    "### Sex\n",
    "\n",
    "This is a categorical feature with 1 being male and 0 being female.\n",
    "\n",
    "Females were more likely to have heart attacks than males were. This feature will be one-hot-encoded."
   ]
  },
  {
   "cell_type": "code",
   "execution_count": 6,
   "id": "0c0c71f7",
   "metadata": {},
   "outputs": [
    {
     "data": {
      "image/png": "[encoded data removed]",
      "text/plain": [
       "<Figure size 600x400 with 1 Axes>"
      ]
     },
     "metadata": {},
     "output_type": "display_data"
    }
   ],
   "source": [
    "bar_plot('sex')"
   ]
  },
  {
   "cell_type": "markdown",
   "id": "319be44b",
   "metadata": {},
   "source": [
    "$\\ $"
   ]
  },
  {
   "cell_type": "markdown",
   "id": "e3c5c2d2",
   "metadata": {},
   "source": [
    "$\\ $"
   ]
  },
  {
   "cell_type": "markdown",
   "id": "7ab72180",
   "metadata": {},
   "source": [
    "$\\ $"
   ]
  },
  {
   "cell_type": "markdown",
   "id": "c9af2355",
   "metadata": {},
   "source": [
    "$\\ $"
   ]
  },
  {
   "cell_type": "markdown",
   "id": "9ad1ca9c",
   "metadata": {},
   "source": [
    "$\\ $"
   ]
  },
  {
   "cell_type": "markdown",
   "id": "1a78780c",
   "metadata": {},
   "source": [
    "$\\ $"
   ]
  },
  {
   "cell_type": "markdown",
   "id": "799edf6a",
   "metadata": {},
   "source": [
    "$\\ $"
   ]
  },
  {
   "cell_type": "markdown",
   "id": "549b8e0c",
   "metadata": {},
   "source": [
    "$\\ $"
   ]
  },
  {
   "cell_type": "markdown",
   "id": "26c7f022",
   "metadata": {},
   "source": [
    "$\\ $"
   ]
  },
  {
   "cell_type": "markdown",
   "id": "2cc5fded",
   "metadata": {},
   "source": [
    "### Chest Pain\n",
    "\n",
    "This is a categorical feature, with 3 being asymptomatic, 0 being typical angina, 1 being atypical angina, and 2 being non-anginal pain. \n",
    "\n",
    "People who had heart attacks on average experienced more level 0-2 pain than people who did not have a heart attack. This feature will be one-hot-encoded."
   ]
  },
  {
   "cell_type": "code",
   "execution_count": 7,
   "id": "f2891bdb",
   "metadata": {},
   "outputs": [
    {
     "data": {
      "image/png": "[encoded data removed]",
      "text/plain": [
       "<Figure size 600x400 with 1 Axes>"
      ]
     },
     "metadata": {},
     "output_type": "display_data"
    }
   ],
   "source": [
    "bar_plot('cp')"
   ]
  },
  {
   "cell_type": "markdown",
   "id": "f3809ea7",
   "metadata": {},
   "source": [
    "$\\ $"
   ]
  },
  {
   "cell_type": "markdown",
   "id": "f87e2830",
   "metadata": {},
   "source": [
    "$\\ $"
   ]
  },
  {
   "cell_type": "markdown",
   "id": "3f91d731",
   "metadata": {},
   "source": [
    "$\\ $"
   ]
  },
  {
   "cell_type": "markdown",
   "id": "8ef910a3",
   "metadata": {},
   "source": [
    "$\\ $"
   ]
  },
  {
   "cell_type": "markdown",
   "id": "ca5e2596",
   "metadata": {},
   "source": [
    "$\\ $"
   ]
  },
  {
   "cell_type": "markdown",
   "id": "cbcbd820",
   "metadata": {},
   "source": [
    "$\\ $"
   ]
  },
  {
   "cell_type": "markdown",
   "id": "788ecbc3",
   "metadata": {},
   "source": [
    "$\\ $"
   ]
  },
  {
   "cell_type": "markdown",
   "id": "3ca5a470",
   "metadata": {},
   "source": [
    "$\\ $"
   ]
  },
  {
   "cell_type": "markdown",
   "id": "e0972691",
   "metadata": {},
   "source": [
    "$\\ $"
   ]
  },
  {
   "cell_type": "markdown",
   "id": "02430894",
   "metadata": {},
   "source": [
    "### Resting Blood Pressure\n",
    "\n",
    "This is a numerical feature ranging from 94 mmHg - 200 mmHg. \n",
    "\n",
    "Patients who experienced heart attacks on average had lower blood pressure than patients who did not experience heart attacks."
   ]
  },
  {
   "cell_type": "code",
   "execution_count": 8,
   "id": "04c113a5",
   "metadata": {},
   "outputs": [
    {
     "data": {
      "image/png": "[encoded data removed]",
      "text/plain": [
       "<Figure size 600x400 with 1 Axes>"
      ]
     },
     "metadata": {},
     "output_type": "display_data"
    }
   ],
   "source": [
    "hist_plot('trtbps')"
   ]
  },
  {
   "cell_type": "markdown",
   "id": "4551b345",
   "metadata": {},
   "source": [
    "$\\ $"
   ]
  },
  {
   "cell_type": "markdown",
   "id": "f2ec2797",
   "metadata": {},
   "source": [
    "$\\ $"
   ]
  },
  {
   "cell_type": "markdown",
   "id": "d56c7918",
   "metadata": {},
   "source": [
    "$\\ $"
   ]
  },
  {
   "cell_type": "markdown",
   "id": "1956a92d",
   "metadata": {},
   "source": [
    "$\\ $"
   ]
  },
  {
   "cell_type": "markdown",
   "id": "b9508444",
   "metadata": {},
   "source": [
    "$\\ $"
   ]
  },
  {
   "cell_type": "markdown",
   "id": "0a87fac4",
   "metadata": {},
   "source": [
    "$\\ $"
   ]
  },
  {
   "cell_type": "markdown",
   "id": "eb6b178e",
   "metadata": {},
   "source": [
    "$\\ $"
   ]
  },
  {
   "cell_type": "markdown",
   "id": "ebe4a40b",
   "metadata": {},
   "source": [
    "$\\ $"
   ]
  },
  {
   "cell_type": "markdown",
   "id": "3fad61a9",
   "metadata": {},
   "source": [
    "$\\ $"
   ]
  },
  {
   "cell_type": "markdown",
   "id": "335dd6e8",
   "metadata": {},
   "source": [
    "$\\ $"
   ]
  },
  {
   "cell_type": "markdown",
   "id": "3d71dcf5",
   "metadata": {},
   "source": [
    "### Serum Cholestrol\n",
    "\n",
    "This is a numerical feature ranging from 126 mg/dL - 564 mg/dL.\n",
    "\n",
    "Patients who had heart attacks on average had lower serum cholestrol levels than people who did not have a heart attack."
   ]
  },
  {
   "cell_type": "code",
   "execution_count": 9,
   "id": "5d3bea48",
   "metadata": {},
   "outputs": [
    {
     "data": {
      "image/png": "[encoded data removed]",
      "text/plain": [
       "<Figure size 600x400 with 1 Axes>"
      ]
     },
     "metadata": {},
     "output_type": "display_data"
    }
   ],
   "source": [
    "hist_plot('chol')"
   ]
  },
  {
   "cell_type": "markdown",
   "id": "59b30b49",
   "metadata": {},
   "source": [
    "$\\ $"
   ]
  },
  {
   "cell_type": "markdown",
   "id": "ed232430",
   "metadata": {},
   "source": [
    "$\\ $"
   ]
  },
  {
   "cell_type": "markdown",
   "id": "b813404d",
   "metadata": {},
   "source": [
    "$\\ $"
   ]
  },
  {
   "cell_type": "markdown",
   "id": "6dcb303c",
   "metadata": {},
   "source": [
    "$\\ $"
   ]
  },
  {
   "cell_type": "markdown",
   "id": "9ff7a1c1",
   "metadata": {},
   "source": [
    "$\\ $"
   ]
  },
  {
   "cell_type": "markdown",
   "id": "c0f3e53f",
   "metadata": {},
   "source": [
    "$\\ $"
   ]
  },
  {
   "cell_type": "markdown",
   "id": "97f6a0be",
   "metadata": {},
   "source": [
    "$\\ $"
   ]
  },
  {
   "cell_type": "markdown",
   "id": "29c7a697",
   "metadata": {},
   "source": [
    "$\\ $"
   ]
  },
  {
   "cell_type": "markdown",
   "id": "f3448369",
   "metadata": {},
   "source": [
    "$\\ $"
   ]
  },
  {
   "cell_type": "markdown",
   "id": "6cef20b4",
   "metadata": {},
   "source": [
    "$\\ $"
   ]
  },
  {
   "cell_type": "markdown",
   "id": "aa827f5c",
   "metadata": {},
   "source": [
    "### Fasting Blood Sugar\n",
    "\n",
    "This is a categorical feature, with 1 if the blood sugar is greater than 120 mg/dL and 0 if not.\n",
    "\n",
    "People who had a heart attack on average had slightly higher blood sugar than people who did not have a heart attack. This feature will be one-hot-encoded."
   ]
  },
  {
   "cell_type": "code",
   "execution_count": 10,
   "id": "6746fe3b",
   "metadata": {},
   "outputs": [
    {
     "data": {
      "image/png": "[encoded data removed]",
      "text/plain": [
       "<Figure size 600x400 with 1 Axes>"
      ]
     },
     "metadata": {},
     "output_type": "display_data"
    }
   ],
   "source": [
    "bar_plot('fbs')"
   ]
  },
  {
   "cell_type": "markdown",
   "id": "683376b8",
   "metadata": {},
   "source": [
    "$\\ $"
   ]
  },
  {
   "cell_type": "markdown",
   "id": "3d59ac0f",
   "metadata": {},
   "source": [
    "$\\ $"
   ]
  },
  {
   "cell_type": "markdown",
   "id": "1a22aef0",
   "metadata": {},
   "source": [
    "$\\ $"
   ]
  },
  {
   "cell_type": "markdown",
   "id": "fa8db0ba",
   "metadata": {},
   "source": [
    "$\\ $"
   ]
  },
  {
   "cell_type": "markdown",
   "id": "ff9a0d01",
   "metadata": {},
   "source": [
    "$\\ $"
   ]
  },
  {
   "cell_type": "markdown",
   "id": "1154d235",
   "metadata": {},
   "source": [
    "$\\ $"
   ]
  },
  {
   "cell_type": "markdown",
   "id": "1732a397",
   "metadata": {},
   "source": [
    "$\\ $"
   ]
  },
  {
   "cell_type": "markdown",
   "id": "bbafe3ff",
   "metadata": {},
   "source": [
    "$\\ $"
   ]
  },
  {
   "cell_type": "markdown",
   "id": "ae689761",
   "metadata": {},
   "source": [
    "$\\ $"
   ]
  },
  {
   "cell_type": "markdown",
   "id": "5b29119d",
   "metadata": {},
   "source": [
    "$\\ $"
   ]
  },
  {
   "cell_type": "markdown",
   "id": "fa26c12b",
   "metadata": {},
   "source": [
    "### Resting ECG\n",
    "\n",
    "This is a categorical feature, with 0 being hypertrophy, 1 being normal, and 2 being ST-T wave abnormality.\n",
    "\n",
    "On average, people with a heart attack experienced slightly more hypertrophy than people without a heart attack. This feature will be one-hot-encoded."
   ]
  },
  {
   "cell_type": "code",
   "execution_count": 11,
   "id": "b2bece98",
   "metadata": {},
   "outputs": [
    {
     "data": {
      "image/png": "[encoded data removed]",
      "text/plain": [
       "<Figure size 600x400 with 1 Axes>"
      ]
     },
     "metadata": {},
     "output_type": "display_data"
    }
   ],
   "source": [
    "bar_plot('restecg')"
   ]
  },
  {
   "cell_type": "markdown",
   "id": "cc1205c1",
   "metadata": {},
   "source": [
    "$\\ $"
   ]
  },
  {
   "cell_type": "markdown",
   "id": "05fe1a4a",
   "metadata": {},
   "source": [
    "$\\ $"
   ]
  },
  {
   "cell_type": "markdown",
   "id": "cfd8d603",
   "metadata": {},
   "source": [
    "$\\ $"
   ]
  },
  {
   "cell_type": "markdown",
   "id": "7bb60fcc",
   "metadata": {},
   "source": [
    "$\\ $"
   ]
  },
  {
   "cell_type": "markdown",
   "id": "c51f975e",
   "metadata": {},
   "source": [
    "$\\ $"
   ]
  },
  {
   "cell_type": "markdown",
   "id": "f4e2164d",
   "metadata": {},
   "source": [
    "$\\ $"
   ]
  },
  {
   "cell_type": "markdown",
   "id": "2d06a7ac",
   "metadata": {},
   "source": [
    "$\\ $"
   ]
  },
  {
   "cell_type": "markdown",
   "id": "160678a0",
   "metadata": {},
   "source": [
    "$\\ $"
   ]
  },
  {
   "cell_type": "markdown",
   "id": "fae621d8",
   "metadata": {},
   "source": [
    "$\\ $"
   ]
  },
  {
   "cell_type": "markdown",
   "id": "2ee12925",
   "metadata": {},
   "source": [
    "$\\ $"
   ]
  },
  {
   "cell_type": "markdown",
   "id": "b85570aa",
   "metadata": {},
   "source": [
    "### Maximum Heart Rate\n",
    "\n",
    "This is a numerical feature ranging from 71 bmp - 202 bmp.\n",
    "\n",
    "On average, people with a heart attack achieve much higher heart rates than people without a heart attack."
   ]
  },
  {
   "cell_type": "code",
   "execution_count": 12,
   "id": "4d47f4c0",
   "metadata": {},
   "outputs": [
    {
     "data": {
      "image/png": "[encoded data removed]",
      "text/plain": [
       "<Figure size 600x400 with 1 Axes>"
      ]
     },
     "metadata": {},
     "output_type": "display_data"
    }
   ],
   "source": [
    "hist_plot('thalachh')"
   ]
  },
  {
   "cell_type": "markdown",
   "id": "1c97e78f",
   "metadata": {},
   "source": [
    "$\\ $"
   ]
  },
  {
   "cell_type": "markdown",
   "id": "d99fc22a",
   "metadata": {},
   "source": [
    "$\\ $"
   ]
  },
  {
   "cell_type": "markdown",
   "id": "6f000571",
   "metadata": {},
   "source": [
    "$\\ $"
   ]
  },
  {
   "cell_type": "markdown",
   "id": "9aa3661a",
   "metadata": {},
   "source": [
    "$\\ $"
   ]
  },
  {
   "cell_type": "markdown",
   "id": "e9bee2e6",
   "metadata": {},
   "source": [
    "$\\ $"
   ]
  },
  {
   "cell_type": "markdown",
   "id": "a883b3d8",
   "metadata": {},
   "source": [
    "$\\ $"
   ]
  },
  {
   "cell_type": "markdown",
   "id": "6a19298b",
   "metadata": {},
   "source": [
    "$\\ $"
   ]
  },
  {
   "cell_type": "markdown",
   "id": "0553ba0d",
   "metadata": {},
   "source": [
    "$\\ $"
   ]
  },
  {
   "cell_type": "markdown",
   "id": "3e4aa9bc",
   "metadata": {},
   "source": [
    "$\\ $"
   ]
  },
  {
   "cell_type": "markdown",
   "id": "77ebd925",
   "metadata": {},
   "source": [
    "$\\ $"
   ]
  },
  {
   "cell_type": "markdown",
   "id": "ffa5ec95",
   "metadata": {},
   "source": [
    "### Exercise-Induced Angina\n",
    "\n",
    "This is a categorical feature, with 1 meaning yes and 0 meaning no.\n",
    "\n",
    "People who had a heart attack on average did not experience exercise-induced angina. This is counterintuitive to what we would expect, and there could be a confounding factor in the data. This feature will be one-hot-encoded."
   ]
  },
  {
   "cell_type": "code",
   "execution_count": 13,
   "id": "5afb60da",
   "metadata": {},
   "outputs": [
    {
     "data": {
      "image/png": "[encoded data removed]",
      "text/plain": [
       "<Figure size 600x400 with 1 Axes>"
      ]
     },
     "metadata": {},
     "output_type": "display_data"
    }
   ],
   "source": [
    "bar_plot('exng')"
   ]
  },
  {
   "cell_type": "markdown",
   "id": "80a6c112",
   "metadata": {},
   "source": [
    "$\\ $"
   ]
  },
  {
   "cell_type": "markdown",
   "id": "5719833e",
   "metadata": {},
   "source": [
    "$\\ $"
   ]
  },
  {
   "cell_type": "markdown",
   "id": "a709b79a",
   "metadata": {},
   "source": [
    "$\\ $"
   ]
  },
  {
   "cell_type": "markdown",
   "id": "367f5b96",
   "metadata": {},
   "source": [
    "$\\ $"
   ]
  },
  {
   "cell_type": "markdown",
   "id": "e7b72a66",
   "metadata": {},
   "source": [
    "$\\ $"
   ]
  },
  {
   "cell_type": "markdown",
   "id": "0661332f",
   "metadata": {},
   "source": [
    "$\\ $"
   ]
  },
  {
   "cell_type": "markdown",
   "id": "74659fd1",
   "metadata": {},
   "source": [
    "$\\ $"
   ]
  },
  {
   "cell_type": "markdown",
   "id": "390ada88",
   "metadata": {},
   "source": [
    "$\\ $"
   ]
  },
  {
   "cell_type": "markdown",
   "id": "29068d27",
   "metadata": {},
   "source": [
    "$\\ $"
   ]
  },
  {
   "cell_type": "markdown",
   "id": "58b7e7cc",
   "metadata": {},
   "source": [
    "$\\ $"
   ]
  },
  {
   "cell_type": "markdown",
   "id": "c3a92592",
   "metadata": {},
   "source": [
    "### Vessels appearing in Fluoroscopy\n",
    "\n",
    "This is a numerical feature ranging from 0 vessels - 4 vessels.\n",
    "\n",
    "On average, people experiencing a heart attack did not have any blood vessels that showed up on their fluoroscopy."
   ]
  },
  {
   "cell_type": "code",
   "execution_count": 14,
   "id": "36f759ca",
   "metadata": {},
   "outputs": [
    {
     "data": {
      "image/png": "[encoded data removed]",
      "text/plain": [
       "<Figure size 600x400 with 1 Axes>"
      ]
     },
     "metadata": {},
     "output_type": "display_data"
    }
   ],
   "source": [
    "bar_plot('caa')"
   ]
  },
  {
   "cell_type": "markdown",
   "id": "9f8b7f6a",
   "metadata": {},
   "source": [
    "$\\ $"
   ]
  },
  {
   "cell_type": "markdown",
   "id": "be7af6ba",
   "metadata": {},
   "source": [
    "$\\ $"
   ]
  },
  {
   "cell_type": "markdown",
   "id": "e5186319",
   "metadata": {},
   "source": [
    "$\\ $"
   ]
  },
  {
   "cell_type": "markdown",
   "id": "0997cd86",
   "metadata": {},
   "source": [
    "$\\ $"
   ]
  },
  {
   "cell_type": "markdown",
   "id": "2e8f0718",
   "metadata": {},
   "source": [
    "$\\ $"
   ]
  },
  {
   "cell_type": "markdown",
   "id": "6731299a",
   "metadata": {},
   "source": [
    "$\\ $"
   ]
  },
  {
   "cell_type": "markdown",
   "id": "5ac4c8f1",
   "metadata": {},
   "source": [
    "$\\ $"
   ]
  },
  {
   "cell_type": "markdown",
   "id": "6d61b864",
   "metadata": {},
   "source": [
    "$\\ $"
   ]
  },
  {
   "cell_type": "markdown",
   "id": "2ebc1bb5",
   "metadata": {},
   "source": [
    "$\\ $"
   ]
  },
  {
   "cell_type": "markdown",
   "id": "3a488d2b",
   "metadata": {},
   "source": [
    "$\\ $"
   ]
  },
  {
   "cell_type": "markdown",
   "id": "1d4dcc9d",
   "metadata": {},
   "source": [
    "### Effect of Thalessemia\n",
    "\n",
    "This is a categorical feature with 1 meaning having a fixed defect, 2 meaning normal, and 3 meaning reversable defect.\n",
    "\n",
    "On average, people experiencing a heart attack had a fixed defect due to thalessemia moreso than people not experiencing a heart attack. This feature will be one-hot-encoded."
   ]
  },
  {
   "cell_type": "code",
   "execution_count": 15,
   "id": "7908a9b1",
   "metadata": {},
   "outputs": [
    {
     "data": {
      "image/png": "[encoded data removed]",
      "text/plain": [
       "<Figure size 600x400 with 1 Axes>"
      ]
     },
     "metadata": {},
     "output_type": "display_data"
    }
   ],
   "source": [
    "bar_plot('thall')"
   ]
  },
  {
   "cell_type": "markdown",
   "id": "6b5f63c4",
   "metadata": {},
   "source": [
    "$\\ $"
   ]
  },
  {
   "cell_type": "markdown",
   "id": "383b5a75",
   "metadata": {},
   "source": [
    "$\\ $"
   ]
  },
  {
   "cell_type": "markdown",
   "id": "690e1e71",
   "metadata": {},
   "source": [
    "$\\ $"
   ]
  },
  {
   "cell_type": "markdown",
   "id": "41c5e352",
   "metadata": {},
   "source": [
    "$\\ $"
   ]
  },
  {
   "cell_type": "markdown",
   "id": "75bb5ac4",
   "metadata": {},
   "source": [
    "$\\ $"
   ]
  },
  {
   "cell_type": "markdown",
   "id": "1c171e3c",
   "metadata": {},
   "source": [
    "$\\ $"
   ]
  },
  {
   "cell_type": "markdown",
   "id": "fb77a910",
   "metadata": {},
   "source": [
    "$\\ $"
   ]
  },
  {
   "cell_type": "markdown",
   "id": "f2cb799d",
   "metadata": {},
   "source": [
    "$\\ $"
   ]
  },
  {
   "cell_type": "markdown",
   "id": "061f9cb1",
   "metadata": {},
   "source": [
    "$\\ $"
   ]
  },
  {
   "cell_type": "markdown",
   "id": "71ec9bbb",
   "metadata": {},
   "source": [
    "## Feature Engineering"
   ]
  },
  {
   "cell_type": "code",
   "execution_count": 16,
   "id": "8988d2f2",
   "metadata": {},
   "outputs": [
    {
     "data": {
      "text/html": [
       "<div>\n",
       "<style scoped>\n",
       "    .dataframe tbody tr th:only-of-type {\n",
       "        vertical-align: middle;\n",
       "    }\n",
       "\n",
       "    .dataframe tbody tr th {\n",
       "        vertical-align: top;\n",
       "    }\n",
       "\n",
       "    .dataframe thead th {\n",
       "        text-align: right;\n",
       "    }\n",
       "</style>\n",
       "<table border=\"1\" class=\"dataframe\">\n",
       "  <thead>\n",
       "    <tr style=\"text-align: right;\">\n",
       "      <th></th>\n",
       "      <th>age</th>\n",
       "      <th>sex</th>\n",
       "      <th>trtbps</th>\n",
       "      <th>chol</th>\n",
       "      <th>fbs</th>\n",
       "      <th>thalachh</th>\n",
       "      <th>exng</th>\n",
       "      <th>caa</th>\n",
       "      <th>output</th>\n",
       "      <th>cp_0</th>\n",
       "      <th>cp_1</th>\n",
       "      <th>cp_2</th>\n",
       "      <th>cp_3</th>\n",
       "      <th>restecg_0</th>\n",
       "      <th>restecg_1</th>\n",
       "      <th>restecg_2</th>\n",
       "      <th>thall_0</th>\n",
       "      <th>thall_1</th>\n",
       "      <th>thall_2</th>\n",
       "      <th>thall_3</th>\n",
       "    </tr>\n",
       "  </thead>\n",
       "  <tbody>\n",
       "    <tr>\n",
       "      <th>0</th>\n",
       "      <td>63</td>\n",
       "      <td>1</td>\n",
       "      <td>145</td>\n",
       "      <td>233</td>\n",
       "      <td>1</td>\n",
       "      <td>150</td>\n",
       "      <td>0</td>\n",
       "      <td>0</td>\n",
       "      <td>1</td>\n",
       "      <td>0</td>\n",
       "      <td>0</td>\n",
       "      <td>0</td>\n",
       "      <td>1</td>\n",
       "      <td>1</td>\n",
       "      <td>0</td>\n",
       "      <td>0</td>\n",
       "      <td>0</td>\n",
       "      <td>1</td>\n",
       "      <td>0</td>\n",
       "      <td>0</td>\n",
       "    </tr>\n",
       "    <tr>\n",
       "      <th>1</th>\n",
       "      <td>37</td>\n",
       "      <td>1</td>\n",
       "      <td>130</td>\n",
       "      <td>250</td>\n",
       "      <td>0</td>\n",
       "      <td>187</td>\n",
       "      <td>0</td>\n",
       "      <td>0</td>\n",
       "      <td>1</td>\n",
       "      <td>0</td>\n",
       "      <td>0</td>\n",
       "      <td>1</td>\n",
       "      <td>0</td>\n",
       "      <td>0</td>\n",
       "      <td>1</td>\n",
       "      <td>0</td>\n",
       "      <td>0</td>\n",
       "      <td>0</td>\n",
       "      <td>1</td>\n",
       "      <td>0</td>\n",
       "    </tr>\n",
       "    <tr>\n",
       "      <th>2</th>\n",
       "      <td>41</td>\n",
       "      <td>0</td>\n",
       "      <td>130</td>\n",
       "      <td>204</td>\n",
       "      <td>0</td>\n",
       "      <td>172</td>\n",
       "      <td>0</td>\n",
       "      <td>0</td>\n",
       "      <td>1</td>\n",
       "      <td>0</td>\n",
       "      <td>1</td>\n",
       "      <td>0</td>\n",
       "      <td>0</td>\n",
       "      <td>1</td>\n",
       "      <td>0</td>\n",
       "      <td>0</td>\n",
       "      <td>0</td>\n",
       "      <td>0</td>\n",
       "      <td>1</td>\n",
       "      <td>0</td>\n",
       "    </tr>\n",
       "  </tbody>\n",
       "</table>\n",
       "</div>"
      ],
      "text/plain": [
       "   age  sex  trtbps  chol  fbs  thalachh  exng  caa  output  cp_0  cp_1  cp_2  \\\n",
       "0   63    1     145   233    1       150     0    0       1     0     0     0   \n",
       "1   37    1     130   250    0       187     0    0       1     0     0     1   \n",
       "2   41    0     130   204    0       172     0    0       1     0     1     0   \n",
       "\n",
       "   cp_3  restecg_0  restecg_1  restecg_2  thall_0  thall_1  thall_2  thall_3  \n",
       "0     1          1          0          0        0        1        0        0  \n",
       "1     0          0          1          0        0        0        1        0  \n",
       "2     0          1          0          0        0        0        1        0  "
      ]
     },
     "execution_count": 16,
     "metadata": {},
     "output_type": "execute_result"
    }
   ],
   "source": [
    "heart['cp'] = heart['cp'].astype(str)\n",
    "heart['thall'] = heart['thall'].astype(str)\n",
    "heart['restecg'] = heart['restecg'].astype(str)\n",
    "heart = pd.get_dummies(heart)\n",
    "heart.head(3)"
   ]
  },
  {
   "cell_type": "markdown",
   "id": "b42cd86c",
   "metadata": {},
   "source": [
    "$\\ $"
   ]
  },
  {
   "cell_type": "markdown",
   "id": "fd027f6d",
   "metadata": {},
   "source": [
    "$\\ $"
   ]
  },
  {
   "cell_type": "markdown",
   "id": "b8e6f996",
   "metadata": {},
   "source": [
    "$\\ $"
   ]
  },
  {
   "cell_type": "markdown",
   "id": "d96f235a",
   "metadata": {},
   "source": [
    "$\\ $"
   ]
  },
  {
   "cell_type": "markdown",
   "id": "87336875",
   "metadata": {},
   "source": [
    "$\\ $"
   ]
  },
  {
   "cell_type": "markdown",
   "id": "7f02e3fd",
   "metadata": {},
   "source": [
    "$\\ $"
   ]
  },
  {
   "cell_type": "markdown",
   "id": "6de02890",
   "metadata": {},
   "source": [
    "$\\ $"
   ]
  },
  {
   "cell_type": "markdown",
   "id": "111da6c0",
   "metadata": {},
   "source": [
    "$\\ $"
   ]
  },
  {
   "cell_type": "markdown",
   "id": "86d28c64",
   "metadata": {},
   "source": [
    "$\\ $"
   ]
  },
  {
   "cell_type": "markdown",
   "id": "18d01132",
   "metadata": {},
   "source": [
    "$\\ $"
   ]
  },
  {
   "cell_type": "markdown",
   "id": "833506b8",
   "metadata": {},
   "source": [
    "$\\ $"
   ]
  },
  {
   "cell_type": "markdown",
   "id": "11f90d47",
   "metadata": {},
   "source": [
    "$\\ $"
   ]
  },
  {
   "cell_type": "markdown",
   "id": "c49e3216",
   "metadata": {},
   "source": [
    "$\\ $"
   ]
  },
  {
   "cell_type": "markdown",
   "id": "a1810d54",
   "metadata": {},
   "source": [
    "$\\ $"
   ]
  },
  {
   "cell_type": "markdown",
   "id": "06e13048",
   "metadata": {},
   "source": [
    "$\\ $"
   ]
  },
  {
   "cell_type": "markdown",
   "id": "31ccbeef",
   "metadata": {},
   "source": [
    "$\\ $"
   ]
  },
  {
   "cell_type": "markdown",
   "id": "901cb480",
   "metadata": {},
   "source": [
    "$\\ $"
   ]
  },
  {
   "cell_type": "markdown",
   "id": "be2db577",
   "metadata": {},
   "source": [
    "$\\ $"
   ]
  },
  {
   "cell_type": "markdown",
   "id": "bb720283",
   "metadata": {},
   "source": [
    "$\\ $"
   ]
  },
  {
   "cell_type": "markdown",
   "id": "fc87d80d",
   "metadata": {},
   "source": [
    "# Method\n",
    "\n",
    "The first method we will be testing is a Logistic Regression Classifier. Logistic regression works by computing the log-odds of the linear combination of all the features. The parameters, or coefficients, of each feature are computed and then a sigmoid function is used to classify the data as either 0 or 1. \n",
    "\n",
    "![sigmoid.png](sigmoid.png)\n",
    "\n",
    "The second method for this research question is a Random Forest Classifier. A Random Forest Classifier works by taking the majority vote on some number of decision trees to classify based on available features.\n",
    "\n",
    "![random_forest.png](random_forest.png)\n",
    "\n",
    "Each time, a boostrapped sample of the data is taken and a decision tree classifier is made. All the decision trees make an attempt at classifying the data, and then the majority vote is taken as the final output. The random forest will automatically compute the best split point for each feature."
   ]
  },
  {
   "cell_type": "markdown",
   "id": "d74259c2",
   "metadata": {},
   "source": [
    "$\\ $"
   ]
  },
  {
   "cell_type": "markdown",
   "id": "8722027c",
   "metadata": {},
   "source": [
    "$\\ $"
   ]
  },
  {
   "cell_type": "markdown",
   "id": "05961d47",
   "metadata": {},
   "source": [
    "$\\ $"
   ]
  },
  {
   "cell_type": "markdown",
   "id": "db9b7c2a",
   "metadata": {},
   "source": [
    "$\\ $"
   ]
  },
  {
   "cell_type": "markdown",
   "id": "e6e0c9f6",
   "metadata": {},
   "source": [
    "$\\ $"
   ]
  },
  {
   "cell_type": "markdown",
   "id": "facc0965",
   "metadata": {},
   "source": [
    "$\\ $"
   ]
  },
  {
   "cell_type": "markdown",
   "id": "093205b0",
   "metadata": {},
   "source": [
    "$\\ $"
   ]
  },
  {
   "cell_type": "markdown",
   "id": "2e86dc95",
   "metadata": {},
   "source": [
    "$\\ $"
   ]
  },
  {
   "cell_type": "markdown",
   "id": "e1c8b427",
   "metadata": {},
   "source": [
    "Create test set, training set, and validation set"
   ]
  },
  {
   "cell_type": "code",
   "execution_count": 17,
   "id": "d263488a",
   "metadata": {},
   "outputs": [],
   "source": [
    "train, test = train_test_split(heart, test_size=0.2, random_state=42)\n",
    "train, validation = train_test_split(train, test_size=0.15, random_state=42)\n",
    "X_train, Y_train = train.drop('output', axis=1), train['output']\n",
    "X_val, Y_val = validation.drop('output', axis=1), validation['output']\n",
    "X_test, Y_test = test.drop('output', axis=1), test['output']"
   ]
  },
  {
   "cell_type": "markdown",
   "id": "cad3ee5e",
   "metadata": {},
   "source": [
    "Logistic Regression: Hyperparameter tuning for validation accuracy"
   ]
  },
  {
   "cell_type": "code",
   "execution_count": 18,
   "id": "53aefc34",
   "metadata": {},
   "outputs": [
    {
     "data": {
      "text/plain": [
       "(0.7567567567567568,\n",
       " LogisticRegression(C=0.1, random_state=42, solver='newton-cg'))"
      ]
     },
     "execution_count": 18,
     "metadata": {},
     "output_type": "execute_result"
    }
   ],
   "source": [
    "penalties = ['none', 'l2']\n",
    "Cs = [0.01, 0.1, 1, 10, 100]\n",
    "fit_intercepts = [True, False]\n",
    "solvers = ['newton-cg', 'lbfgs', 'sag', 'saga']\n",
    "combinations = product(penalties, Cs, fit_intercepts, solvers)\n",
    "best_clf_lr, best_val_accuracy_lr = 0, 0\n",
    "for penalty, C, fit_intercept, solver in combinations:\n",
    "    model = LogisticRegression(\n",
    "        penalty = penalty,\n",
    "        C = C,\n",
    "        fit_intercept = fit_intercept,\n",
    "        solver = solver,\n",
    "        random_state = 42\n",
    "    )\n",
    "    model.fit(X_train, Y_train)\n",
    "    Y_val_preds = model.predict(X_val)\n",
    "    val_accuracy = accuracy_score(Y_val_preds, Y_val)\n",
    "    if val_accuracy > best_val_accuracy_lr:\n",
    "        best_val_accuracy_lr = val_accuracy\n",
    "        best_clf_lr = model\n",
    "        \n",
    "best_val_accuracy_lr, best_clf_lr"
   ]
  },
  {
   "cell_type": "markdown",
   "id": "2201557c",
   "metadata": {},
   "source": [
    "$\\ $"
   ]
  },
  {
   "cell_type": "markdown",
   "id": "2a1d85e0",
   "metadata": {},
   "source": [
    "$\\ $"
   ]
  },
  {
   "cell_type": "markdown",
   "id": "524502d4",
   "metadata": {},
   "source": [
    "$\\ $"
   ]
  },
  {
   "cell_type": "markdown",
   "id": "c102ccdf",
   "metadata": {},
   "source": [
    "$\\ $"
   ]
  },
  {
   "cell_type": "markdown",
   "id": "ed311d74",
   "metadata": {},
   "source": [
    "$\\ $"
   ]
  },
  {
   "cell_type": "markdown",
   "id": "c37b3845",
   "metadata": {},
   "source": [
    "$\\ $"
   ]
  },
  {
   "cell_type": "markdown",
   "id": "a521d842",
   "metadata": {},
   "source": [
    "$\\ $"
   ]
  },
  {
   "cell_type": "markdown",
   "id": "b0959ec9",
   "metadata": {},
   "source": [
    "$\\ $"
   ]
  },
  {
   "cell_type": "markdown",
   "id": "74357273",
   "metadata": {},
   "source": [
    "Random Forest Classifier: Hyperparameter tuning for validation accuracy"
   ]
  },
  {
   "cell_type": "code",
   "execution_count": 19,
   "id": "4277ff2b",
   "metadata": {},
   "outputs": [
    {
     "data": {
      "text/plain": [
       "(0.7837837837837838,\n",
       " RandomForestClassifier(criterion='entropy', max_depth=7, min_samples_split=3,\n",
       "                        random_state=42))"
      ]
     },
     "execution_count": 19,
     "metadata": {},
     "output_type": "execute_result"
    }
   ],
   "source": [
    "n_estimators = [100, 200]\n",
    "criterions = ['gini', 'entropy', 'log_loss']\n",
    "max_depths = [2, 3, 5, 6, 7, None]\n",
    "min_samples_splits = [2, 3, 4]\n",
    "max_features = ['sqrt', 'log2', None]\n",
    "combinations = product(n_estimators, criterions, max_depths, min_samples_splits, max_features)\n",
    "best_clf_rf, best_val_accuracy_rf = 0, 0\n",
    "for n_estimator, criterion, max_depth, min_samples_split, max_feature in combinations:\n",
    "    model = RandomForestClassifier(\n",
    "        n_estimators = n_estimator,\n",
    "        criterion = criterion,\n",
    "        max_depth = max_depth,\n",
    "        min_samples_split = min_samples_split,\n",
    "        max_features = max_feature,\n",
    "        random_state = 42\n",
    "    )\n",
    "    model.fit(X_train, Y_train)\n",
    "    Y_val_preds = model.predict(X_val)\n",
    "    val_accuracy = accuracy_score(Y_val_preds, Y_val)\n",
    "    if val_accuracy > best_val_accuracy_rf:\n",
    "        best_val_accuracy_rf = val_accuracy\n",
    "        best_clf_rf = model\n",
    "        \n",
    "best_val_accuracy_rf, best_clf_rf"
   ]
  },
  {
   "cell_type": "markdown",
   "id": "a7e0de1d",
   "metadata": {},
   "source": [
    "Prediction on test set"
   ]
  },
  {
   "cell_type": "code",
   "execution_count": 20,
   "id": "04131818",
   "metadata": {},
   "outputs": [
    {
     "name": "stdout",
     "output_type": "stream",
     "text": [
      "Test Accuracy of Logistic Regression:\t 90.164 %\n",
      "Test Accuracy of Random Forest:\t\t 91.803 %\n"
     ]
    }
   ],
   "source": [
    "Y_preds_test_lr = best_clf_lr.predict(X_test)\n",
    "Y_preds_test_rf = best_clf_rf.predict(X_test)\n",
    "test_accuracy_lr = accuracy_score(Y_preds_test_lr, Y_test)\n",
    "test_accuracy_rf = accuracy_score(Y_preds_test_rf, Y_test)\n",
    "print('Test Accuracy of Logistic Regression:\\t', np.round(test_accuracy_lr*100, 3), '%')\n",
    "print('Test Accuracy of Random Forest:\\t\\t', np.round(test_accuracy_rf*100, 3), '%')"
   ]
  },
  {
   "cell_type": "markdown",
   "id": "c22dd6b2",
   "metadata": {},
   "source": [
    "# Results and Conclusion\n",
    "\n",
    "The optimized random forest had a test accuracy of 91.803%, and the optimized logistic regression had a test accuracy of 90.164%. In comparison as was expected, the random forest out-performed the logistic regression. This means that in 91.803% of new cases, the random forest classifier was able to predict whether or not the person would have a heart attack based on their risk factors.\n",
    "\n",
    "Given a person's age, sex, blood pressure, cholestrol, blood sugar, ecg results, heart rate, chest pain, blood vessel count, and history of Thalessemia, our model was able to accurately predict whether or not that person would have a heart attack. These are all risk factors that could be easily measured in a doctor's visit and could give life-saving information about an impending heart attack to someone.\n",
    "\n",
    "With a positive prediction from this classifier, prevention measures could be taken to lessen the risk of a heart attack and/or a treatment plan could be made in advance. This means that someone's life could be saved or the cost of their medical treatments could be lowered.\n",
    "\n",
    "Although this classifier could be a great tool for predicting heart attacks, there is still some work that needs to be done before this can be used in the real world. A medical ethics board should discuss the implications of a false positive or false negative classification, and should fine-tune the classifier to optimize for the ethical ratio of false positives to false negatives. The metric we used to evaluate the classifier was accuracy, but there are other metrics that could be used depending on the goal.\n",
    "\n",
    "Overall, this classifier is a great first step in flagging potential heart attacks, and with some fine tuning could result in more readiness to deal with an impending heart attack."
   ]
  },
  {
   "cell_type": "code",
   "execution_count": null,
   "id": "e3d21b0f",
   "metadata": {},
   "outputs": [],
   "source": []
  }
 ],
 "metadata": {
  "kernelspec": {
   "display_name": "Python 3 (ipykernel)",
   "language": "python",
   "name": "python3"
  },
  "language_info": {
   "codemirror_mode": {
    "name": "ipython",
    "version": 3
   },
   "file_extension": ".py",
   "mimetype": "text/x-python",
   "name": "python",
   "nbconvert_exporter": "python",
   "pygments_lexer": "ipython3",
   "version": "3.9.13"
  }
 },
 "nbformat": 4,
 "nbformat_minor": 5
}
